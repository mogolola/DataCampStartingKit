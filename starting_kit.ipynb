{
 "cells": [
  {
   "cell_type": "markdown",
   "metadata": {},
   "source": [
    "# Paris Saclay Center for Data Science\n",
    "\n",
    "### Qixiang PENG, Mo YANG, Shuopeng WANG, Zizhao LI\n",
    " "
   ]
  },
  {
   "cell_type": "markdown",
   "metadata": {},
   "source": [
    "1. [Introduction](#Introduction)\n",
    "2. [Preprocessing](#Preprocessing)\n",
    "3. [Regressor](#Regressor)\n",
    "4. [Local testing (before submission)](#Local-testing)"
   ]
  },
  {
   "cell_type": "markdown",
   "metadata": {},
   "source": [
    "## Introduction\n",
    "\n",
    "It is estimated that 795 million people still live without an adequate food supply (FAO 2015), and that by 2050 there\n",
    "will be two billion more people to feed (Dodds and Bartram 2016). Ending hunger and improving food security are primary goals in the 2030 Agenda for Sustainable Development of the United Nations (United Nations 2015).\n",
    "\n",
    "Agricultural monitoring, in particular in developing countries, can help prevent famine and support humanitarian efforts. A central challenge is yield estimation, namely being able to accurately predict crop yields well before harvest, which is to predict crop yields before harvesting.\n",
    "\n",
    "Remote sensing, on the other hand, is a globally available and economical data source that has recently garnered much interest.\n",
    "\n",
    "These multi-spectral remote sensing images, which include additional information besides the traditional visible wavelengths (RGB) and have fairly high spatial and temporal resolution, contain a wealth of information on vegetation growth and thus on agricultural outcomes.\n",
    "\n",
    "Some widely used features include Normal- ized Difference Vegetation Index (NDVI) (Quarmby et al. 1993; Johnson 2014), two-band Enhanced Vegetation Index (EVI2) (Bolton and Friedl 2013) and Normalized Difference Water Index (NDWI) (Satir and Berberoglu 2016)."
   ]
  },
  {
   "cell_type": "markdown",
   "metadata": {},
   "source": [
    "### Prediction tast\n",
    "The goal is to develop time series prediction models able to predict the yield of 2016 based on remote sensing data.\n",
    "\n",
    "The data-set we used is MODIS:\n",
    "\n",
    "The MODIS instrument is operating on both the Terra and Aqua spacecraft. It has a viewing swath width of 2,330 km and views the entire surface of the Earth every one to two days. Its detectors measure 36 spectral bands between 0.405 and 14.385 µm, and it acquires data at three spatial resolutions -- 250m, 500m, and 1,000m.\n",
    "\n",
    "The many data products derived from MODIS observations describe features of the land, oceans and the atmosphere that can be used for studies of processes and trends on local to global scales.\n",
    "\n",
    "You can find more about MODIS in https://modis.gsfc.nasa.gov/data/.\n",
    "\n",
    "We provide raw images as histograms of pixel counts, and use a mean-field approximation to achieve tractability. \n"
   ]
  },
  {
   "cell_type": "markdown",
   "metadata": {},
   "source": [
    "### References\n",
    "1. Jiaxuan You, Xiaocheng Li, Melvin Low, David Lobell and Stefano Ermon, IDeep Gaussian Process for Crop Yield Prediction Based on Remote Sensing Data, AAAI 2017"
   ]
  },
  {
   "cell_type": "markdown",
   "metadata": {},
   "source": [
    "## import libraries"
   ]
  },
  {
   "cell_type": "code",
   "execution_count": 2,
   "metadata": {},
   "outputs": [],
   "source": [
    "import numpy as np\n",
    "import math\n",
    "import pandas as pd\n",
    "import pylab as plt\n",
    "import os\n",
    "from sys import path#; path.append(datadir)"
   ]
  },
  {
   "cell_type": "code",
   "execution_count": 3,
   "metadata": {},
   "outputs": [
    {
     "name": "stdout",
     "output_type": "stream",
     "text": [
      "data/data.npz                    data/raw_data.zip\n",
      "\u001b[31mdata/locations.csv\u001b[m\u001b[m               data/yield_final.csv\n",
      "data/locations_final.csv         \u001b[31mdata/yield_final_highquality.csv\u001b[m\u001b[m\n",
      "\n",
      "data/data_image_full:\n",
      "\u001b[31m1_1.tif\u001b[m\u001b[m   \u001b[31m1_11.tif\u001b[m\u001b[m  \u001b[31m1_129.tif\u001b[m\u001b[m \u001b[31m1_33.tif\u001b[m\u001b[m  \u001b[31m1_5.tif\u001b[m\u001b[m   \u001b[31m1_61.tif\u001b[m\u001b[m  \u001b[31m1_77.tif\u001b[m\u001b[m  \u001b[31m1_9.tif\u001b[m\u001b[m\n",
      "\u001b[31m1_101.tif\u001b[m\u001b[m \u001b[31m1_117.tif\u001b[m\u001b[m \u001b[31m1_15.tif\u001b[m\u001b[m  \u001b[31m1_35.tif\u001b[m\u001b[m  \u001b[31m1_51.tif\u001b[m\u001b[m  \u001b[31m1_63.tif\u001b[m\u001b[m  \u001b[31m1_79.tif\u001b[m\u001b[m  \u001b[31m1_91.tif\u001b[m\u001b[m\n",
      "\u001b[31m1_103.tif\u001b[m\u001b[m \u001b[31m1_119.tif\u001b[m\u001b[m \u001b[31m1_19.tif\u001b[m\u001b[m  \u001b[31m1_39.tif\u001b[m\u001b[m  \u001b[31m1_53.tif\u001b[m\u001b[m  \u001b[31m1_67.tif\u001b[m\u001b[m  \u001b[31m1_83.tif\u001b[m\u001b[m  \u001b[31m1_93.tif\u001b[m\u001b[m\n",
      "\u001b[31m1_105.tif\u001b[m\u001b[m \u001b[31m1_121.tif\u001b[m\u001b[m \u001b[31m1_21.tif\u001b[m\u001b[m  \u001b[31m1_41.tif\u001b[m\u001b[m  \u001b[31m1_55.tif\u001b[m\u001b[m  \u001b[31m1_69.tif\u001b[m\u001b[m  \u001b[31m1_85.tif\u001b[m\u001b[m  \u001b[31m1_95.tif\u001b[m\u001b[m\n",
      "\u001b[31m1_107.tif\u001b[m\u001b[m \u001b[31m1_125.tif\u001b[m\u001b[m \u001b[31m1_3.tif\u001b[m\u001b[m   \u001b[31m1_43.tif\u001b[m\u001b[m  \u001b[31m1_57.tif\u001b[m\u001b[m  \u001b[31m1_71.tif\u001b[m\u001b[m  \u001b[31m1_87.tif\u001b[m\u001b[m  \u001b[31m1_97.tif\u001b[m\u001b[m\n",
      "\u001b[31m1_109.tif\u001b[m\u001b[m \u001b[31m1_127.tif\u001b[m\u001b[m \u001b[31m1_31.tif\u001b[m\u001b[m  \u001b[31m1_49.tif\u001b[m\u001b[m  \u001b[31m1_59.tif\u001b[m\u001b[m  \u001b[31m1_75.tif\u001b[m\u001b[m  \u001b[31m1_89.tif\u001b[m\u001b[m  \u001b[31m1_99.tif\u001b[m\u001b[m\n",
      "\n",
      "data/data_mask:\n",
      "\u001b[31m1_1.tif\u001b[m\u001b[m   \u001b[31m1_11.tif\u001b[m\u001b[m  \u001b[31m1_129.tif\u001b[m\u001b[m \u001b[31m1_33.tif\u001b[m\u001b[m  \u001b[31m1_5.tif\u001b[m\u001b[m   \u001b[31m1_61.tif\u001b[m\u001b[m  \u001b[31m1_77.tif\u001b[m\u001b[m  \u001b[31m1_9.tif\u001b[m\u001b[m\n",
      "\u001b[31m1_101.tif\u001b[m\u001b[m \u001b[31m1_117.tif\u001b[m\u001b[m \u001b[31m1_15.tif\u001b[m\u001b[m  \u001b[31m1_35.tif\u001b[m\u001b[m  \u001b[31m1_51.tif\u001b[m\u001b[m  \u001b[31m1_63.tif\u001b[m\u001b[m  \u001b[31m1_79.tif\u001b[m\u001b[m  \u001b[31m1_91.tif\u001b[m\u001b[m\n",
      "\u001b[31m1_103.tif\u001b[m\u001b[m \u001b[31m1_119.tif\u001b[m\u001b[m \u001b[31m1_19.tif\u001b[m\u001b[m  \u001b[31m1_39.tif\u001b[m\u001b[m  \u001b[31m1_53.tif\u001b[m\u001b[m  \u001b[31m1_67.tif\u001b[m\u001b[m  \u001b[31m1_83.tif\u001b[m\u001b[m  \u001b[31m1_93.tif\u001b[m\u001b[m\n",
      "\u001b[31m1_105.tif\u001b[m\u001b[m \u001b[31m1_121.tif\u001b[m\u001b[m \u001b[31m1_21.tif\u001b[m\u001b[m  \u001b[31m1_41.tif\u001b[m\u001b[m  \u001b[31m1_55.tif\u001b[m\u001b[m  \u001b[31m1_69.tif\u001b[m\u001b[m  \u001b[31m1_85.tif\u001b[m\u001b[m  \u001b[31m1_95.tif\u001b[m\u001b[m\n",
      "\u001b[31m1_107.tif\u001b[m\u001b[m \u001b[31m1_125.tif\u001b[m\u001b[m \u001b[31m1_3.tif\u001b[m\u001b[m   \u001b[31m1_43.tif\u001b[m\u001b[m  \u001b[31m1_57.tif\u001b[m\u001b[m  \u001b[31m1_71.tif\u001b[m\u001b[m  \u001b[31m1_87.tif\u001b[m\u001b[m  \u001b[31m1_97.tif\u001b[m\u001b[m\n",
      "\u001b[31m1_109.tif\u001b[m\u001b[m \u001b[31m1_127.tif\u001b[m\u001b[m \u001b[31m1_31.tif\u001b[m\u001b[m  \u001b[31m1_49.tif\u001b[m\u001b[m  \u001b[31m1_59.tif\u001b[m\u001b[m  \u001b[31m1_75.tif\u001b[m\u001b[m  \u001b[31m1_89.tif\u001b[m\u001b[m  \u001b[31m1_99.tif\u001b[m\u001b[m\n",
      "\n",
      "data/data_temperature:\n",
      "\u001b[31m1_1.tif\u001b[m\u001b[m   \u001b[31m1_11.tif\u001b[m\u001b[m  \u001b[31m1_129.tif\u001b[m\u001b[m \u001b[31m1_33.tif\u001b[m\u001b[m  \u001b[31m1_5.tif\u001b[m\u001b[m   \u001b[31m1_61.tif\u001b[m\u001b[m  \u001b[31m1_77.tif\u001b[m\u001b[m  \u001b[31m1_9.tif\u001b[m\u001b[m\n",
      "\u001b[31m1_101.tif\u001b[m\u001b[m \u001b[31m1_117.tif\u001b[m\u001b[m \u001b[31m1_15.tif\u001b[m\u001b[m  \u001b[31m1_35.tif\u001b[m\u001b[m  \u001b[31m1_51.tif\u001b[m\u001b[m  \u001b[31m1_63.tif\u001b[m\u001b[m  \u001b[31m1_79.tif\u001b[m\u001b[m  \u001b[31m1_91.tif\u001b[m\u001b[m\n",
      "\u001b[31m1_103.tif\u001b[m\u001b[m \u001b[31m1_119.tif\u001b[m\u001b[m \u001b[31m1_19.tif\u001b[m\u001b[m  \u001b[31m1_39.tif\u001b[m\u001b[m  \u001b[31m1_53.tif\u001b[m\u001b[m  \u001b[31m1_67.tif\u001b[m\u001b[m  \u001b[31m1_83.tif\u001b[m\u001b[m  \u001b[31m1_93.tif\u001b[m\u001b[m\n",
      "\u001b[31m1_105.tif\u001b[m\u001b[m \u001b[31m1_121.tif\u001b[m\u001b[m \u001b[31m1_21.tif\u001b[m\u001b[m  \u001b[31m1_41.tif\u001b[m\u001b[m  \u001b[31m1_55.tif\u001b[m\u001b[m  \u001b[31m1_69.tif\u001b[m\u001b[m  \u001b[31m1_85.tif\u001b[m\u001b[m  \u001b[31m1_95.tif\u001b[m\u001b[m\n",
      "\u001b[31m1_107.tif\u001b[m\u001b[m \u001b[31m1_125.tif\u001b[m\u001b[m \u001b[31m1_3.tif\u001b[m\u001b[m   \u001b[31m1_43.tif\u001b[m\u001b[m  \u001b[31m1_57.tif\u001b[m\u001b[m  \u001b[31m1_71.tif\u001b[m\u001b[m  \u001b[31m1_87.tif\u001b[m\u001b[m  \u001b[31m1_97.tif\u001b[m\u001b[m\n",
      "\u001b[31m1_109.tif\u001b[m\u001b[m \u001b[31m1_127.tif\u001b[m\u001b[m \u001b[31m1_31.tif\u001b[m\u001b[m  \u001b[31m1_49.tif\u001b[m\u001b[m  \u001b[31m1_59.tif\u001b[m\u001b[m  \u001b[31m1_75.tif\u001b[m\u001b[m  \u001b[31m1_89.tif\u001b[m\u001b[m  \u001b[31m1_99.tif\u001b[m\u001b[m\n",
      "\n",
      "data/img_full_output:\n",
      "2003_1_103.npy 2006_1_83.npy  2010_1_49.npy  2013_1_11.npy  2015_1_119.npy\n",
      "2003_1_121.npy 2006_1_89.npy  2010_1_51.npy  2013_1_119.npy 2015_1_121.npy\n",
      "2003_1_15.npy  2006_1_93.npy  2010_1_53.npy  2013_1_121.npy 2015_1_125.npy\n",
      "2003_1_19.npy  2006_1_95.npy  2010_1_57.npy  2013_1_125.npy 2015_1_19.npy\n",
      "2003_1_3.npy   2007_1_103.npy 2010_1_59.npy  2013_1_127.npy 2015_1_21.npy\n",
      "2003_1_43.npy  2007_1_121.npy 2010_1_61.npy  2013_1_15.npy  2015_1_3.npy\n",
      "2003_1_49.npy  2007_1_125.npy 2010_1_69.npy  2013_1_19.npy  2015_1_33.npy\n",
      "2003_1_53.npy  2007_1_15.npy  2010_1_71.npy  2013_1_21.npy  2015_1_39.npy\n",
      "2003_1_55.npy  2007_1_19.npy  2010_1_77.npy  2013_1_3.npy   2015_1_43.npy\n",
      "2003_1_57.npy  2007_1_3.npy   2010_1_79.npy  2013_1_31.npy  2015_1_49.npy\n",
      "2003_1_61.npy  2007_1_33.npy  2010_1_83.npy  2013_1_33.npy  2015_1_5.npy\n",
      "2003_1_69.npy  2007_1_43.npy  2010_1_87.npy  2013_1_35.npy  2015_1_53.npy\n",
      "2003_1_71.npy  2007_1_49.npy  2010_1_89.npy  2013_1_39.npy  2015_1_55.npy\n",
      "2003_1_77.npy  2007_1_53.npy  2010_1_9.npy   2013_1_41.npy  2015_1_57.npy\n",
      "2003_1_79.npy  2007_1_55.npy  2010_1_91.npy  2013_1_43.npy  2015_1_61.npy\n",
      "2003_1_83.npy  2007_1_57.npy  2010_1_95.npy  2013_1_49.npy  2015_1_69.npy\n",
      "2003_1_89.npy  2007_1_67.npy  2011_1_1.npy   2013_1_51.npy  2015_1_71.npy\n",
      "2003_1_93.npy  2007_1_69.npy  2011_1_105.npy 2013_1_53.npy  2015_1_77.npy\n",
      "2003_1_95.npy  2007_1_71.npy  2011_1_109.npy 2013_1_57.npy  2015_1_79.npy\n",
      "2004_1_103.npy 2007_1_77.npy  2011_1_117.npy 2013_1_59.npy  2015_1_83.npy\n",
      "2004_1_105.npy 2007_1_79.npy  2011_1_119.npy 2013_1_61.npy  2015_1_85.npy\n",
      "2004_1_121.npy 2007_1_83.npy  2011_1_121.npy 2013_1_67.npy  2015_1_89.npy\n",
      "2004_1_125.npy 2007_1_89.npy  2011_1_125.npy 2013_1_69.npy  2015_1_9.npy\n",
      "2004_1_15.npy  2007_1_93.npy  2011_1_15.npy  2013_1_71.npy  2015_1_99.npy\n",
      "2004_1_19.npy  2007_1_95.npy  2011_1_19.npy  2013_1_77.npy  2016_1_1.npy\n",
      "2004_1_3.npy   2008_1_103.npy 2011_1_3.npy   2013_1_79.npy  2016_1_101.npy\n",
      "2004_1_33.npy  2008_1_3.npy   2011_1_33.npy  2013_1_83.npy  2016_1_103.npy\n",
      "2004_1_39.npy  2008_1_49.npy  2011_1_35.npy  2013_1_87.npy  2016_1_105.npy\n",
      "2004_1_43.npy  2008_1_77.npy  2011_1_39.npy  2013_1_89.npy  2016_1_107.npy\n",
      "2004_1_49.npy  2008_1_83.npy  2011_1_43.npy  2013_1_9.npy   2016_1_109.npy\n",
      "2004_1_53.npy  2008_1_89.npy  2011_1_49.npy  2013_1_91.npy  2016_1_11.npy\n",
      "2004_1_55.npy  2009_1_1.npy   2011_1_51.npy  2013_1_95.npy  2016_1_117.npy\n",
      "2004_1_57.npy  2009_1_103.npy 2011_1_53.npy  2013_1_99.npy  2016_1_119.npy\n",
      "2004_1_59.npy  2009_1_109.npy 2011_1_55.npy  2014_1_101.npy 2016_1_121.npy\n",
      "2004_1_61.npy  2009_1_119.npy 2011_1_57.npy  2014_1_103.npy 2016_1_125.npy\n",
      "2004_1_67.npy  2009_1_121.npy 2011_1_59.npy  2014_1_105.npy 2016_1_127.npy\n",
      "2004_1_69.npy  2009_1_125.npy 2011_1_71.npy  2014_1_109.npy 2016_1_129.npy\n",
      "2004_1_71.npy  2009_1_15.npy  2011_1_77.npy  2014_1_11.npy  2016_1_15.npy\n",
      "2004_1_77.npy  2009_1_19.npy  2011_1_79.npy  2014_1_117.npy 2016_1_19.npy\n",
      "2004_1_79.npy  2009_1_3.npy   2011_1_83.npy  2014_1_119.npy 2016_1_21.npy\n",
      "2004_1_83.npy  2009_1_31.npy  2011_1_89.npy  2014_1_121.npy 2016_1_3.npy\n",
      "2004_1_85.npy  2009_1_33.npy  2011_1_91.npy  2014_1_125.npy 2016_1_31.npy\n",
      "2004_1_89.npy  2009_1_35.npy  2011_1_95.npy  2014_1_127.npy 2016_1_33.npy\n",
      "2004_1_93.npy  2009_1_39.npy  2012_1_103.npy 2014_1_129.npy 2016_1_35.npy\n",
      "2004_1_95.npy  2009_1_43.npy  2012_1_105.npy 2014_1_15.npy  2016_1_39.npy\n",
      "2004_1_99.npy  2009_1_49.npy  2012_1_109.npy 2014_1_19.npy  2016_1_41.npy\n",
      "2005_1_103.npy 2009_1_51.npy  2012_1_119.npy 2014_1_3.npy   2016_1_43.npy\n",
      "2005_1_15.npy  2009_1_53.npy  2012_1_121.npy 2014_1_31.npy  2016_1_49.npy\n",
      "2005_1_19.npy  2009_1_55.npy  2012_1_125.npy 2014_1_33.npy  2016_1_5.npy\n",
      "2005_1_33.npy  2009_1_61.npy  2012_1_15.npy  2014_1_39.npy  2016_1_51.npy\n",
      "2005_1_43.npy  2009_1_69.npy  2012_1_19.npy  2014_1_43.npy  2016_1_53.npy\n",
      "2005_1_49.npy  2009_1_71.npy  2012_1_3.npy   2014_1_49.npy  2016_1_55.npy\n",
      "2005_1_55.npy  2009_1_77.npy  2012_1_31.npy  2014_1_51.npy  2016_1_57.npy\n",
      "2005_1_61.npy  2009_1_79.npy  2012_1_33.npy  2014_1_53.npy  2016_1_59.npy\n",
      "2005_1_69.npy  2009_1_83.npy  2012_1_39.npy  2014_1_55.npy  2016_1_61.npy\n",
      "2005_1_71.npy  2009_1_87.npy  2012_1_43.npy  2014_1_57.npy  2016_1_63.npy\n",
      "2005_1_77.npy  2009_1_89.npy  2012_1_49.npy  2014_1_59.npy  2016_1_67.npy\n",
      "2005_1_79.npy  2009_1_95.npy  2012_1_53.npy  2014_1_61.npy  2016_1_69.npy\n",
      "2005_1_83.npy  2009_1_97.npy  2012_1_55.npy  2014_1_63.npy  2016_1_71.npy\n",
      "2005_1_89.npy  2009_1_99.npy  2012_1_57.npy  2014_1_67.npy  2016_1_75.npy\n",
      "2005_1_93.npy  2010_1_1.npy   2012_1_71.npy  2014_1_69.npy  2016_1_77.npy\n",
      "2005_1_95.npy  2010_1_103.npy 2012_1_75.npy  2014_1_71.npy  2016_1_79.npy\n",
      "2006_1_103.npy 2010_1_107.npy 2012_1_77.npy  2014_1_77.npy  2016_1_83.npy\n",
      "2006_1_15.npy  2010_1_109.npy 2012_1_79.npy  2014_1_79.npy  2016_1_85.npy\n",
      "2006_1_19.npy  2010_1_117.npy 2012_1_83.npy  2014_1_83.npy  2016_1_87.npy\n",
      "2006_1_3.npy   2010_1_125.npy 2012_1_85.npy  2014_1_85.npy  2016_1_89.npy\n",
      "2006_1_43.npy  2010_1_15.npy  2012_1_89.npy  2014_1_87.npy  2016_1_9.npy\n",
      "2006_1_49.npy  2010_1_19.npy  2012_1_9.npy   2014_1_89.npy  2016_1_91.npy\n",
      "2006_1_55.npy  2010_1_3.npy   2012_1_95.npy  2014_1_9.npy   2016_1_93.npy\n",
      "2006_1_57.npy  2010_1_31.npy  2012_1_99.npy  2014_1_95.npy  2016_1_95.npy\n",
      "2006_1_69.npy  2010_1_33.npy  2013_1_1.npy   2014_1_99.npy  2016_1_97.npy\n",
      "2006_1_71.npy  2010_1_35.npy  2013_1_103.npy 2015_1_103.npy 2016_1_99.npy\n",
      "2006_1_77.npy  2010_1_39.npy  2013_1_105.npy 2015_1_105.npy\n",
      "2006_1_79.npy  2010_1_43.npy  2013_1_109.npy 2015_1_109.npy\n",
      "\n",
      "data/img_zoom_full_output:\n",
      "2003_1_103.npy 2006_1_83.npy  2010_1_49.npy  2013_1_11.npy  2015_1_119.npy\n",
      "2003_1_121.npy 2006_1_89.npy  2010_1_51.npy  2013_1_119.npy 2015_1_121.npy\n",
      "2003_1_15.npy  2006_1_93.npy  2010_1_53.npy  2013_1_121.npy 2015_1_125.npy\n",
      "2003_1_19.npy  2006_1_95.npy  2010_1_57.npy  2013_1_125.npy 2015_1_19.npy\n",
      "2003_1_3.npy   2007_1_103.npy 2010_1_59.npy  2013_1_127.npy 2015_1_21.npy\n",
      "2003_1_43.npy  2007_1_121.npy 2010_1_61.npy  2013_1_15.npy  2015_1_3.npy\n",
      "2003_1_49.npy  2007_1_125.npy 2010_1_69.npy  2013_1_19.npy  2015_1_33.npy\n",
      "2003_1_53.npy  2007_1_15.npy  2010_1_71.npy  2013_1_21.npy  2015_1_39.npy\n",
      "2003_1_55.npy  2007_1_19.npy  2010_1_77.npy  2013_1_3.npy   2015_1_43.npy\n",
      "2003_1_57.npy  2007_1_3.npy   2010_1_79.npy  2013_1_31.npy  2015_1_49.npy\n",
      "2003_1_61.npy  2007_1_33.npy  2010_1_83.npy  2013_1_33.npy  2015_1_5.npy\n",
      "2003_1_69.npy  2007_1_43.npy  2010_1_87.npy  2013_1_35.npy  2015_1_53.npy\n",
      "2003_1_71.npy  2007_1_49.npy  2010_1_89.npy  2013_1_39.npy  2015_1_55.npy\n",
      "2003_1_77.npy  2007_1_53.npy  2010_1_9.npy   2013_1_41.npy  2015_1_57.npy\n",
      "2003_1_79.npy  2007_1_55.npy  2010_1_91.npy  2013_1_43.npy  2015_1_61.npy\n",
      "2003_1_83.npy  2007_1_57.npy  2010_1_95.npy  2013_1_49.npy  2015_1_69.npy\n",
      "2003_1_89.npy  2007_1_67.npy  2011_1_1.npy   2013_1_51.npy  2015_1_71.npy\n",
      "2003_1_93.npy  2007_1_69.npy  2011_1_105.npy 2013_1_53.npy  2015_1_77.npy\n",
      "2003_1_95.npy  2007_1_71.npy  2011_1_109.npy 2013_1_57.npy  2015_1_79.npy\n",
      "2004_1_103.npy 2007_1_77.npy  2011_1_117.npy 2013_1_59.npy  2015_1_83.npy\n",
      "2004_1_105.npy 2007_1_79.npy  2011_1_119.npy 2013_1_61.npy  2015_1_85.npy\n",
      "2004_1_121.npy 2007_1_83.npy  2011_1_121.npy 2013_1_67.npy  2015_1_89.npy\n",
      "2004_1_125.npy 2007_1_89.npy  2011_1_125.npy 2013_1_69.npy  2015_1_9.npy\n",
      "2004_1_15.npy  2007_1_93.npy  2011_1_15.npy  2013_1_71.npy  2015_1_99.npy\n",
      "2004_1_19.npy  2007_1_95.npy  2011_1_19.npy  2013_1_77.npy  2016_1_1.npy\n",
      "2004_1_3.npy   2008_1_103.npy 2011_1_3.npy   2013_1_79.npy  2016_1_101.npy\n",
      "2004_1_33.npy  2008_1_3.npy   2011_1_33.npy  2013_1_83.npy  2016_1_103.npy\n",
      "2004_1_39.npy  2008_1_49.npy  2011_1_35.npy  2013_1_87.npy  2016_1_105.npy\n",
      "2004_1_43.npy  2008_1_77.npy  2011_1_39.npy  2013_1_89.npy  2016_1_107.npy\n",
      "2004_1_49.npy  2008_1_83.npy  2011_1_43.npy  2013_1_9.npy   2016_1_109.npy\n",
      "2004_1_53.npy  2008_1_89.npy  2011_1_49.npy  2013_1_91.npy  2016_1_11.npy\n",
      "2004_1_55.npy  2009_1_1.npy   2011_1_51.npy  2013_1_95.npy  2016_1_117.npy\n",
      "2004_1_57.npy  2009_1_103.npy 2011_1_53.npy  2013_1_99.npy  2016_1_119.npy\n",
      "2004_1_59.npy  2009_1_109.npy 2011_1_55.npy  2014_1_101.npy 2016_1_121.npy\n",
      "2004_1_61.npy  2009_1_119.npy 2011_1_57.npy  2014_1_103.npy 2016_1_125.npy\n",
      "2004_1_67.npy  2009_1_121.npy 2011_1_59.npy  2014_1_105.npy 2016_1_127.npy\n",
      "2004_1_69.npy  2009_1_125.npy 2011_1_71.npy  2014_1_109.npy 2016_1_129.npy\n",
      "2004_1_71.npy  2009_1_15.npy  2011_1_77.npy  2014_1_11.npy  2016_1_15.npy\n",
      "2004_1_77.npy  2009_1_19.npy  2011_1_79.npy  2014_1_117.npy 2016_1_19.npy\n",
      "2004_1_79.npy  2009_1_3.npy   2011_1_83.npy  2014_1_119.npy 2016_1_21.npy\n",
      "2004_1_83.npy  2009_1_31.npy  2011_1_89.npy  2014_1_121.npy 2016_1_3.npy\n",
      "2004_1_85.npy  2009_1_33.npy  2011_1_91.npy  2014_1_125.npy 2016_1_31.npy\n",
      "2004_1_89.npy  2009_1_35.npy  2011_1_95.npy  2014_1_127.npy 2016_1_33.npy\n",
      "2004_1_93.npy  2009_1_39.npy  2012_1_103.npy 2014_1_129.npy 2016_1_35.npy\n",
      "2004_1_95.npy  2009_1_43.npy  2012_1_105.npy 2014_1_15.npy  2016_1_39.npy\n",
      "2004_1_99.npy  2009_1_49.npy  2012_1_109.npy 2014_1_19.npy  2016_1_41.npy\n",
      "2005_1_103.npy 2009_1_51.npy  2012_1_119.npy 2014_1_3.npy   2016_1_43.npy\n",
      "2005_1_15.npy  2009_1_53.npy  2012_1_121.npy 2014_1_31.npy  2016_1_49.npy\n",
      "2005_1_19.npy  2009_1_55.npy  2012_1_125.npy 2014_1_33.npy  2016_1_5.npy\n",
      "2005_1_33.npy  2009_1_61.npy  2012_1_15.npy  2014_1_39.npy  2016_1_51.npy\n",
      "2005_1_43.npy  2009_1_69.npy  2012_1_19.npy  2014_1_43.npy  2016_1_53.npy\n",
      "2005_1_49.npy  2009_1_71.npy  2012_1_3.npy   2014_1_49.npy  2016_1_55.npy\n",
      "2005_1_55.npy  2009_1_77.npy  2012_1_31.npy  2014_1_51.npy  2016_1_57.npy\n",
      "2005_1_61.npy  2009_1_79.npy  2012_1_33.npy  2014_1_53.npy  2016_1_59.npy\n",
      "2005_1_69.npy  2009_1_83.npy  2012_1_39.npy  2014_1_55.npy  2016_1_61.npy\n",
      "2005_1_71.npy  2009_1_87.npy  2012_1_43.npy  2014_1_57.npy  2016_1_63.npy\n",
      "2005_1_77.npy  2009_1_89.npy  2012_1_49.npy  2014_1_59.npy  2016_1_67.npy\n",
      "2005_1_79.npy  2009_1_95.npy  2012_1_53.npy  2014_1_61.npy  2016_1_69.npy\n",
      "2005_1_83.npy  2009_1_97.npy  2012_1_55.npy  2014_1_63.npy  2016_1_71.npy\n",
      "2005_1_89.npy  2009_1_99.npy  2012_1_57.npy  2014_1_67.npy  2016_1_75.npy\n",
      "2005_1_93.npy  2010_1_1.npy   2012_1_71.npy  2014_1_69.npy  2016_1_77.npy\n",
      "2005_1_95.npy  2010_1_103.npy 2012_1_75.npy  2014_1_71.npy  2016_1_79.npy\n",
      "2006_1_103.npy 2010_1_107.npy 2012_1_77.npy  2014_1_77.npy  2016_1_83.npy\n",
      "2006_1_15.npy  2010_1_109.npy 2012_1_79.npy  2014_1_79.npy  2016_1_85.npy\n",
      "2006_1_19.npy  2010_1_117.npy 2012_1_83.npy  2014_1_83.npy  2016_1_87.npy\n",
      "2006_1_3.npy   2010_1_125.npy 2012_1_85.npy  2014_1_85.npy  2016_1_89.npy\n",
      "2006_1_43.npy  2010_1_15.npy  2012_1_89.npy  2014_1_87.npy  2016_1_9.npy\n",
      "2006_1_49.npy  2010_1_19.npy  2012_1_9.npy   2014_1_89.npy  2016_1_91.npy\n",
      "2006_1_55.npy  2010_1_3.npy   2012_1_95.npy  2014_1_9.npy   2016_1_93.npy\n",
      "2006_1_57.npy  2010_1_31.npy  2012_1_99.npy  2014_1_95.npy  2016_1_95.npy\n",
      "2006_1_69.npy  2010_1_33.npy  2013_1_1.npy   2014_1_99.npy  2016_1_97.npy\n",
      "2006_1_71.npy  2010_1_35.npy  2013_1_103.npy 2015_1_103.npy 2016_1_99.npy\n",
      "2006_1_77.npy  2010_1_39.npy  2013_1_105.npy 2015_1_105.npy\n",
      "2006_1_79.npy  2010_1_43.npy  2013_1_109.npy 2015_1_109.npy\n"
     ]
    }
   ],
   "source": [
    "datadir = 'data/'\n",
    "MODIS_dir=datadir+\"data_image_full/\"\n",
    "MODIS_temperature_dir=datadir+\"data_temperature/\"\n",
    "MODIS_mask_dir=datadir+\"data_mask/\"\n",
    "img_output_dir=datadir +\"img_full_output/\"\n",
    "img_zoom_output_dir=datadir +\"img_zoom_full_output/\"\n",
    "!ls $datadir*"
   ]
  },
  {
   "cell_type": "markdown",
   "metadata": {},
   "source": [
    "## Load meta data"
   ]
  },
  {
   "cell_type": "markdown",
   "metadata": {},
   "source": [
    "### Show list of crop field locations as well as their latitude and longtitude. loc1 the code of state, loc2 is the code of district"
   ]
  },
  {
   "cell_type": "code",
   "execution_count": 4,
   "metadata": {},
   "outputs": [],
   "source": [
    "X = pd.read_csv(datadir+\"locations.csv\",names=['loc1','loc2','lat','lon'])"
   ]
  },
  {
   "cell_type": "code",
   "execution_count": 5,
   "metadata": {},
   "outputs": [
    {
     "data": {
      "text/html": [
       "<div>\n",
       "<style scoped>\n",
       "    .dataframe tbody tr th:only-of-type {\n",
       "        vertical-align: middle;\n",
       "    }\n",
       "\n",
       "    .dataframe tbody tr th {\n",
       "        vertical-align: top;\n",
       "    }\n",
       "\n",
       "    .dataframe thead th {\n",
       "        text-align: right;\n",
       "    }\n",
       "</style>\n",
       "<table border=\"1\" class=\"dataframe\">\n",
       "  <thead>\n",
       "    <tr style=\"text-align: right;\">\n",
       "      <th></th>\n",
       "      <th>loc1</th>\n",
       "      <th>loc2</th>\n",
       "      <th>lat</th>\n",
       "      <th>lon</th>\n",
       "    </tr>\n",
       "  </thead>\n",
       "  <tbody>\n",
       "    <tr>\n",
       "      <th>0</th>\n",
       "      <td>1</td>\n",
       "      <td>47</td>\n",
       "      <td>-87.114</td>\n",
       "      <td>32.334</td>\n",
       "    </tr>\n",
       "    <tr>\n",
       "      <th>1</th>\n",
       "      <td>1</td>\n",
       "      <td>65</td>\n",
       "      <td>-87.623</td>\n",
       "      <td>32.753</td>\n",
       "    </tr>\n",
       "    <tr>\n",
       "      <th>2</th>\n",
       "      <td>1</td>\n",
       "      <td>85</td>\n",
       "      <td>-86.651</td>\n",
       "      <td>32.148</td>\n",
       "    </tr>\n",
       "    <tr>\n",
       "      <th>3</th>\n",
       "      <td>1</td>\n",
       "      <td>105</td>\n",
       "      <td>-87.294</td>\n",
       "      <td>32.639</td>\n",
       "    </tr>\n",
       "    <tr>\n",
       "      <th>4</th>\n",
       "      <td>1</td>\n",
       "      <td>119</td>\n",
       "      <td>-88.200</td>\n",
       "      <td>32.597</td>\n",
       "    </tr>\n",
       "  </tbody>\n",
       "</table>\n",
       "</div>"
      ],
      "text/plain": [
       "   loc1  loc2     lat     lon\n",
       "0     1    47 -87.114  32.334\n",
       "1     1    65 -87.623  32.753\n",
       "2     1    85 -86.651  32.148\n",
       "3     1   105 -87.294  32.639\n",
       "4     1   119 -88.200  32.597"
      ]
     },
     "execution_count": 5,
     "metadata": {},
     "output_type": "execute_result"
    }
   ],
   "source": [
    "X.head()"
   ]
  },
  {
   "cell_type": "code",
   "execution_count": 6,
   "metadata": {},
   "outputs": [
    {
     "data": {
      "text/html": [
       "<div>\n",
       "<style scoped>\n",
       "    .dataframe tbody tr th:only-of-type {\n",
       "        vertical-align: middle;\n",
       "    }\n",
       "\n",
       "    .dataframe tbody tr th {\n",
       "        vertical-align: top;\n",
       "    }\n",
       "\n",
       "    .dataframe thead th {\n",
       "        text-align: right;\n",
       "    }\n",
       "</style>\n",
       "<table border=\"1\" class=\"dataframe\">\n",
       "  <thead>\n",
       "    <tr style=\"text-align: right;\">\n",
       "      <th></th>\n",
       "      <th>loc1</th>\n",
       "      <th>loc2</th>\n",
       "      <th>lat</th>\n",
       "      <th>lon</th>\n",
       "    </tr>\n",
       "  </thead>\n",
       "  <tbody>\n",
       "    <tr>\n",
       "      <th>count</th>\n",
       "      <td>1834.000000</td>\n",
       "      <td>1834.000000</td>\n",
       "      <td>1834.000000</td>\n",
       "      <td>1834.000000</td>\n",
       "    </tr>\n",
       "    <tr>\n",
       "      <th>mean</th>\n",
       "      <td>29.747546</td>\n",
       "      <td>95.098691</td>\n",
       "      <td>-88.742418</td>\n",
       "      <td>38.738920</td>\n",
       "    </tr>\n",
       "    <tr>\n",
       "      <th>std</th>\n",
       "      <td>13.339581</td>\n",
       "      <td>70.534206</td>\n",
       "      <td>7.157043</td>\n",
       "      <td>4.169422</td>\n",
       "    </tr>\n",
       "    <tr>\n",
       "      <th>min</th>\n",
       "      <td>1.000000</td>\n",
       "      <td>1.000000</td>\n",
       "      <td>-103.510000</td>\n",
       "      <td>26.103000</td>\n",
       "    </tr>\n",
       "    <tr>\n",
       "      <th>25%</th>\n",
       "      <td>19.000000</td>\n",
       "      <td>41.500000</td>\n",
       "      <td>-94.669000</td>\n",
       "      <td>35.699250</td>\n",
       "    </tr>\n",
       "    <tr>\n",
       "      <th>50%</th>\n",
       "      <td>28.000000</td>\n",
       "      <td>87.000000</td>\n",
       "      <td>-88.762500</td>\n",
       "      <td>38.878000</td>\n",
       "    </tr>\n",
       "    <tr>\n",
       "      <th>75%</th>\n",
       "      <td>40.000000</td>\n",
       "      <td>135.000000</td>\n",
       "      <td>-83.738750</td>\n",
       "      <td>41.613750</td>\n",
       "    </tr>\n",
       "    <tr>\n",
       "      <th>max</th>\n",
       "      <td>55.000000</td>\n",
       "      <td>810.000000</td>\n",
       "      <td>-73.439000</td>\n",
       "      <td>48.815000</td>\n",
       "    </tr>\n",
       "  </tbody>\n",
       "</table>\n",
       "</div>"
      ],
      "text/plain": [
       "              loc1         loc2          lat          lon\n",
       "count  1834.000000  1834.000000  1834.000000  1834.000000\n",
       "mean     29.747546    95.098691   -88.742418    38.738920\n",
       "std      13.339581    70.534206     7.157043     4.169422\n",
       "min       1.000000     1.000000  -103.510000    26.103000\n",
       "25%      19.000000    41.500000   -94.669000    35.699250\n",
       "50%      28.000000    87.000000   -88.762500    38.878000\n",
       "75%      40.000000   135.000000   -83.738750    41.613750\n",
       "max      55.000000   810.000000   -73.439000    48.815000"
      ]
     },
     "execution_count": 6,
     "metadata": {},
     "output_type": "execute_result"
    }
   ],
   "source": [
    "X.describe()"
   ]
  },
  {
   "cell_type": "markdown",
   "metadata": {},
   "source": [
    "### draw locations in America's Landmap"
   ]
  },
  {
   "cell_type": "code",
   "execution_count": 7,
   "metadata": {},
   "outputs": [
    {
     "data": {
      "image/png": "[encoded data removed]",
      "text/plain": [
       "<matplotlib.figure.Figure at 0x1086c28d0>"
      ]
     },
     "metadata": {},
     "output_type": "display_data"
    }
   ],
   "source": [
    "from mpl_toolkits.basemap import Basemap\n",
    "%matplotlib inline\n",
    "m = Basemap(llcrnrlon=-119,llcrnrlat=22,urcrnrlon=-64,urcrnrlat=49,\n",
    "        projection='lcc',lat_1=33,lat_2=45,lon_0=-95)\n",
    "#m.readshapefile('st99_d00','states',drawbounds=True)\n",
    "latitudes = list(X['lon'])\n",
    "\n",
    "longitudes = list(X['lat'])\n",
    "x, y = m(longitudes, latitudes)\n",
    "# Use matplotlib to draw the points onto the map.\n",
    "m.drawcoastlines()\n",
    "m.scatter(x, y, s=1)\n",
    "plt.show()"
   ]
  },
  {
   "cell_type": "markdown",
   "metadata": {},
   "source": [
    "### In the starting kit, we only use data in one state"
   ]
  },
  {
   "cell_type": "code",
   "execution_count": 8,
   "metadata": {},
   "outputs": [],
   "source": [
    "X_1 = pd.read_csv(datadir+\"locations_final.csv\",names=['loc1','loc2','lat','lon'])"
   ]
  },
  {
   "cell_type": "code",
   "execution_count": 9,
   "metadata": {},
   "outputs": [
    {
     "data": {
      "image/png": "[encoded data removed]",
      "text/plain": [
       "<matplotlib.figure.Figure at 0x1080a9110>"
      ]
     },
     "metadata": {},
     "output_type": "display_data"
    }
   ],
   "source": [
    "from mpl_toolkits.basemap import Basemap\n",
    "%matplotlib inline\n",
    "m = Basemap(llcrnrlon=-119,llcrnrlat=22,urcrnrlon=-64,urcrnrlat=49,\n",
    "        projection='lcc',lat_1=33,lat_2=45,lon_0=-95)\n",
    "#m.readshapefile('st99_d00','states',drawbounds=True)\n",
    "latitudes = list(X_1['lon'])\n",
    "longitudes = list(X_1['lat'])\n",
    "x, y = m(longitudes, latitudes)\n",
    "# Use matplotlib to draw the points onto the map.\n",
    "m.drawcoastlines()\n",
    "m.scatter(x, y, s=1)\n",
    "plt.show()"
   ]
  },
  {
   "cell_type": "markdown",
   "metadata": {},
   "source": [
    "### Show list of crop yields in each locations from year 2003 to year 2016"
   ]
  },
  {
   "cell_type": "code",
   "execution_count": 10,
   "metadata": {},
   "outputs": [],
   "source": [
    "Y = pd.read_csv(\"./data/yield_final.csv\",names=['year','loc1','loc2','yield'])"
   ]
  },
  {
   "cell_type": "code",
   "execution_count": 11,
   "metadata": {},
   "outputs": [
    {
     "data": {
      "text/html": [
       "<div>\n",
       "<style scoped>\n",
       "    .dataframe tbody tr th:only-of-type {\n",
       "        vertical-align: middle;\n",
       "    }\n",
       "\n",
       "    .dataframe tbody tr th {\n",
       "        vertical-align: top;\n",
       "    }\n",
       "\n",
       "    .dataframe thead th {\n",
       "        text-align: right;\n",
       "    }\n",
       "</style>\n",
       "<table border=\"1\" class=\"dataframe\">\n",
       "  <thead>\n",
       "    <tr style=\"text-align: right;\">\n",
       "      <th></th>\n",
       "      <th>year</th>\n",
       "      <th>loc1</th>\n",
       "      <th>loc2</th>\n",
       "      <th>yield</th>\n",
       "    </tr>\n",
       "  </thead>\n",
       "  <tbody>\n",
       "    <tr>\n",
       "      <th>0</th>\n",
       "      <td>2015</td>\n",
       "      <td>1</td>\n",
       "      <td>85</td>\n",
       "      <td>28.0</td>\n",
       "    </tr>\n",
       "    <tr>\n",
       "      <th>1</th>\n",
       "      <td>2015</td>\n",
       "      <td>1</td>\n",
       "      <td>105</td>\n",
       "      <td>27.7</td>\n",
       "    </tr>\n",
       "    <tr>\n",
       "      <th>2</th>\n",
       "      <td>2015</td>\n",
       "      <td>1</td>\n",
       "      <td>119</td>\n",
       "      <td>29.6</td>\n",
       "    </tr>\n",
       "    <tr>\n",
       "      <th>3</th>\n",
       "      <td>2015</td>\n",
       "      <td>1</td>\n",
       "      <td>3</td>\n",
       "      <td>43.4</td>\n",
       "    </tr>\n",
       "    <tr>\n",
       "      <th>4</th>\n",
       "      <td>2015</td>\n",
       "      <td>1</td>\n",
       "      <td>53</td>\n",
       "      <td>35.9</td>\n",
       "    </tr>\n",
       "  </tbody>\n",
       "</table>\n",
       "</div>"
      ],
      "text/plain": [
       "   year  loc1  loc2  yield\n",
       "0  2015     1    85   28.0\n",
       "1  2015     1   105   27.7\n",
       "2  2015     1   119   29.6\n",
       "3  2015     1     3   43.4\n",
       "4  2015     1    53   35.9"
      ]
     },
     "execution_count": 11,
     "metadata": {},
     "output_type": "execute_result"
    }
   ],
   "source": [
    "Y.head()"
   ]
  },
  {
   "cell_type": "code",
   "execution_count": 12,
   "metadata": {},
   "outputs": [
    {
     "data": {
      "text/html": [
       "<div>\n",
       "<style scoped>\n",
       "    .dataframe tbody tr th:only-of-type {\n",
       "        vertical-align: middle;\n",
       "    }\n",
       "\n",
       "    .dataframe tbody tr th {\n",
       "        vertical-align: top;\n",
       "    }\n",
       "\n",
       "    .dataframe thead th {\n",
       "        text-align: right;\n",
       "    }\n",
       "</style>\n",
       "<table border=\"1\" class=\"dataframe\">\n",
       "  <thead>\n",
       "    <tr style=\"text-align: right;\">\n",
       "      <th></th>\n",
       "      <th>year</th>\n",
       "      <th>loc1</th>\n",
       "      <th>loc2</th>\n",
       "      <th>yield</th>\n",
       "    </tr>\n",
       "  </thead>\n",
       "  <tbody>\n",
       "    <tr>\n",
       "      <th>count</th>\n",
       "      <td>368.000000</td>\n",
       "      <td>368.0</td>\n",
       "      <td>368.000000</td>\n",
       "      <td>368.000000</td>\n",
       "    </tr>\n",
       "    <tr>\n",
       "      <th>mean</th>\n",
       "      <td>2010.608696</td>\n",
       "      <td>1.0</td>\n",
       "      <td>66.396739</td>\n",
       "      <td>30.083424</td>\n",
       "    </tr>\n",
       "    <tr>\n",
       "      <th>std</th>\n",
       "      <td>4.091479</td>\n",
       "      <td>0.0</td>\n",
       "      <td>34.358507</td>\n",
       "      <td>14.425115</td>\n",
       "    </tr>\n",
       "    <tr>\n",
       "      <th>min</th>\n",
       "      <td>2003.000000</td>\n",
       "      <td>1.0</td>\n",
       "      <td>1.000000</td>\n",
       "      <td>0.000000</td>\n",
       "    </tr>\n",
       "    <tr>\n",
       "      <th>25%</th>\n",
       "      <td>2007.000000</td>\n",
       "      <td>1.0</td>\n",
       "      <td>43.000000</td>\n",
       "      <td>23.125000</td>\n",
       "    </tr>\n",
       "    <tr>\n",
       "      <th>50%</th>\n",
       "      <td>2011.000000</td>\n",
       "      <td>1.0</td>\n",
       "      <td>69.000000</td>\n",
       "      <td>33.850000</td>\n",
       "    </tr>\n",
       "    <tr>\n",
       "      <th>75%</th>\n",
       "      <td>2014.000000</td>\n",
       "      <td>1.0</td>\n",
       "      <td>93.000000</td>\n",
       "      <td>40.525000</td>\n",
       "    </tr>\n",
       "    <tr>\n",
       "      <th>max</th>\n",
       "      <td>2016.000000</td>\n",
       "      <td>1.0</td>\n",
       "      <td>129.000000</td>\n",
       "      <td>53.600000</td>\n",
       "    </tr>\n",
       "  </tbody>\n",
       "</table>\n",
       "</div>"
      ],
      "text/plain": [
       "              year   loc1        loc2       yield\n",
       "count   368.000000  368.0  368.000000  368.000000\n",
       "mean   2010.608696    1.0   66.396739   30.083424\n",
       "std       4.091479    0.0   34.358507   14.425115\n",
       "min    2003.000000    1.0    1.000000    0.000000\n",
       "25%    2007.000000    1.0   43.000000   23.125000\n",
       "50%    2011.000000    1.0   69.000000   33.850000\n",
       "75%    2014.000000    1.0   93.000000   40.525000\n",
       "max    2016.000000    1.0  129.000000   53.600000"
      ]
     },
     "execution_count": 12,
     "metadata": {},
     "output_type": "execute_result"
    }
   ],
   "source": [
    "Y.describe()"
   ]
  },
  {
   "cell_type": "markdown",
   "metadata": {},
   "source": [
    "### Show corp yield in America's land map in 2013, bigger point means higher yield"
   ]
  },
  {
   "cell_type": "code",
   "execution_count": 13,
   "metadata": {},
   "outputs": [
    {
     "data": {
      "text/html": [
       "<div>\n",
       "<style scoped>\n",
       "    .dataframe tbody tr th:only-of-type {\n",
       "        vertical-align: middle;\n",
       "    }\n",
       "\n",
       "    .dataframe tbody tr th {\n",
       "        vertical-align: top;\n",
       "    }\n",
       "\n",
       "    .dataframe thead th {\n",
       "        text-align: right;\n",
       "    }\n",
       "</style>\n",
       "<table border=\"1\" class=\"dataframe\">\n",
       "  <thead>\n",
       "    <tr style=\"text-align: right;\">\n",
       "      <th></th>\n",
       "      <th>year</th>\n",
       "      <th>loc1</th>\n",
       "      <th>loc2</th>\n",
       "      <th>yield</th>\n",
       "      <th>lat</th>\n",
       "      <th>lon</th>\n",
       "      <th>loc</th>\n",
       "    </tr>\n",
       "  </thead>\n",
       "  <tbody>\n",
       "    <tr>\n",
       "      <th>7</th>\n",
       "      <td>2013</td>\n",
       "      <td>1</td>\n",
       "      <td>105</td>\n",
       "      <td>35.5</td>\n",
       "      <td>-87.294</td>\n",
       "      <td>32.639</td>\n",
       "      <td>1_105</td>\n",
       "    </tr>\n",
       "    <tr>\n",
       "      <th>14</th>\n",
       "      <td>2013</td>\n",
       "      <td>1</td>\n",
       "      <td>119</td>\n",
       "      <td>33.0</td>\n",
       "      <td>-88.200</td>\n",
       "      <td>32.597</td>\n",
       "      <td>1_119</td>\n",
       "    </tr>\n",
       "    <tr>\n",
       "      <th>21</th>\n",
       "      <td>2013</td>\n",
       "      <td>1</td>\n",
       "      <td>3</td>\n",
       "      <td>41.9</td>\n",
       "      <td>-87.746</td>\n",
       "      <td>30.659</td>\n",
       "      <td>1_3</td>\n",
       "    </tr>\n",
       "    <tr>\n",
       "      <th>34</th>\n",
       "      <td>2013</td>\n",
       "      <td>1</td>\n",
       "      <td>53</td>\n",
       "      <td>40.2</td>\n",
       "      <td>-87.168</td>\n",
       "      <td>31.122</td>\n",
       "      <td>1_53</td>\n",
       "    </tr>\n",
       "    <tr>\n",
       "      <th>45</th>\n",
       "      <td>2013</td>\n",
       "      <td>1</td>\n",
       "      <td>99</td>\n",
       "      <td>42.1</td>\n",
       "      <td>-87.383</td>\n",
       "      <td>31.580</td>\n",
       "      <td>1_99</td>\n",
       "    </tr>\n",
       "  </tbody>\n",
       "</table>\n",
       "</div>"
      ],
      "text/plain": [
       "    year  loc1  loc2  yield     lat     lon    loc\n",
       "7   2013     1   105   35.5 -87.294  32.639  1_105\n",
       "14  2013     1   119   33.0 -88.200  32.597  1_119\n",
       "21  2013     1     3   41.9 -87.746  30.659    1_3\n",
       "34  2013     1    53   40.2 -87.168  31.122   1_53\n",
       "45  2013     1    99   42.1 -87.383  31.580   1_99"
      ]
     },
     "execution_count": 13,
     "metadata": {},
     "output_type": "execute_result"
    }
   ],
   "source": [
    "L = pd.read_csv(datadir+\"locations_final.csv\", names=['loc1','loc2','lat','lon'])\n",
    "L['loc'] = L['loc1'].apply(str) + '_' + L['loc2'].apply(str)\n",
    "combine = pd.merge(Y,L)\n",
    "yield2013 = combine[combine['year']==2013]\n",
    "yield2013.head()"
   ]
  },
  {
   "cell_type": "code",
   "execution_count": 14,
   "metadata": {},
   "outputs": [
    {
     "data": {
      "image/png": "[encoded data removed]",
      "text/plain": [
       "<matplotlib.figure.Figure at 0x108919890>"
      ]
     },
     "metadata": {},
     "output_type": "display_data"
    }
   ],
   "source": [
    "m = Basemap(llcrnrlon=-93,llcrnrlat=25,urcrnrlon=-75,urcrnrlat=35,\n",
    "        projection='lcc',lat_1=33,lat_2=45,lon_0=-95)\n",
    "#m.readshapefile('st99_d00','states',drawbounds=True)\n",
    "latitudes = list(yield2013['lon'])\n",
    "longitudes = list(yield2013['lat'])\n",
    "yields = list(yield2013['yield'])\n",
    "x, y = m(longitudes, latitudes)\n",
    "\n",
    "max_yield = max(yields)\n",
    "size_factor = 40.0 \n",
    "\n",
    "for i,j,k in zip(x,y,yields):  \n",
    "    size = size_factor*k/max_yield \n",
    "    m.scatter(i,j,s=size,marker='o',color='#FF5600')  \n",
    "\n",
    "\n",
    "\n",
    "# Use matplotlib to draw the points onto the map.\n",
    "m.drawcoastlines()\n",
    "\n",
    "plt.show()"
   ]
  },
  {
   "cell_type": "markdown",
   "metadata": {},
   "source": [
    "### Number of examples in each year\n",
    "Each example is a series of remote sensor images in a whole year. In this problem you are going to use the serie of images to predict the that year's corp yierd."
   ]
  },
  {
   "cell_type": "code",
   "execution_count": 15,
   "metadata": {},
   "outputs": [
    {
     "data": {
      "image/png": "[encoded data removed]",
      "text/plain": [
       "<matplotlib.figure.Figure at 0x108162f90>"
      ]
     },
     "metadata": {},
     "output_type": "display_data"
    }
   ],
   "source": [
    "years = sorted(Y['year'].unique())\n",
    "num = []\n",
    "for year in years:\n",
    "    num.append(Y[Y['year']==year]['year'].count())\n",
    "plt.bar(years, num)\n",
    "plt.xlabel('year')\n",
    "plt.ylabel('number of examples')\n",
    "plt.show()"
   ]
  },
  {
   "cell_type": "markdown",
   "metadata": {},
   "source": [
    "## Preprocessing\n",
    "\n",
    "### From raw data to local quadrangles\n",
    "\n",
    "The remote sensoring image of each county has been saved in the directory 'data/data_image_full/'.Raw visualization of the full remote sensor image is  quite difficult, because a remote sensor image normally have many bands, each band comtains a lot of different informations. To show up the content of a remote sensor image, we give an example for a single band of image for entire county "
   ]
  },
  {
   "cell_type": "code",
   "execution_count": 16,
   "metadata": {},
   "outputs": [],
   "source": [
    "import gdal"
   ]
  },
  {
   "cell_type": "code",
   "execution_count": 17,
   "metadata": {},
   "outputs": [],
   "source": [
    "X_raw = np.transpose(np.array(gdal.Open(MODIS_dir+'1_1.tif').ReadAsArray(), dtype='uint16'),axes=(1,2,0))"
   ]
  },
  {
   "cell_type": "code",
   "execution_count": 18,
   "metadata": {},
   "outputs": [
    {
     "data": {
      "text/plain": [
       "<matplotlib.image.AxesImage at 0x108990850>"
      ]
     },
     "execution_count": 18,
     "metadata": {},
     "output_type": "execute_result"
    },
    {
     "data": {
      "image/png": "[encoded data removed]",
      "text/plain": [
       "<matplotlib.figure.Figure at 0x108a092d0>"
      ]
     },
     "metadata": {},
     "output_type": "display_data"
    }
   ],
   "source": [
    "plt.imshow(X_raw[:,:,0])"
   ]
  },
  {
   "cell_type": "markdown",
   "metadata": {},
   "source": [
    "However, the raw image contains too much informations. The raw image contains the remote sensor images in many year. It covers the whole region of county but we only care about images about farms. Also, it doesn't include temperature which is apparently strong relevant to corp yield. Thus, temperature layers are merged in and all regions which are not farms are masked out. To uniform the input, the masked region are unsampling to 48x48. The processed images are stored in directory 'data/img_zoom_full_output/'"
   ]
  },
  {
   "cell_type": "markdown",
   "metadata": {},
   "source": [
    "### Processed image"
   ]
  },
  {
   "cell_type": "code",
   "execution_count": 20,
   "metadata": {},
   "outputs": [],
   "source": [
    "X_train = []\n",
    "for _, _, files in os.walk(img_zoom_output_dir):\n",
    "    for f in files:\n",
    "        if f.endswith('.npy'):\n",
    "            X = np.load(img_zoom_output_dir+f)\n",
    "            X_train.append(X)\n",
    "    "
   ]
  },
  {
   "cell_type": "code",
   "execution_count": 21,
   "metadata": {},
   "outputs": [
    {
     "data": {
      "text/plain": [
       "368"
      ]
     },
     "execution_count": 21,
     "metadata": {},
     "output_type": "execute_result"
    }
   ],
   "source": [
    "len(X_train)"
   ]
  },
  {
   "cell_type": "code",
   "execution_count": 22,
   "metadata": {},
   "outputs": [
    {
     "data": {
      "text/plain": [
       "(48, 48, 414)"
      ]
     },
     "execution_count": 22,
     "metadata": {},
     "output_type": "execute_result"
    }
   ],
   "source": [
    "X_train[0].shape"
   ]
  },
  {
   "cell_type": "code",
   "execution_count": 23,
   "metadata": {},
   "outputs": [
    {
     "data": {
      "text/plain": [
       "<matplotlib.image.AxesImage at 0x108f44a90>"
      ]
     },
     "execution_count": 23,
     "metadata": {},
     "output_type": "execute_result"
    },
    {
     "data": {
      "image/png": "[encoded data removed]",
      "text/plain": [
       "<matplotlib.figure.Figure at 0x1080af610>"
      ]
     },
     "metadata": {},
     "output_type": "display_data"
    }
   ],
   "source": [
    "plt.imshow(X_train[0][:,:,0])"
   ]
  },
  {
   "cell_type": "markdown",
   "metadata": {},
   "source": [
    "### Convert multi-bands images to histogram"
   ]
  },
  {
   "cell_type": "code",
   "execution_count": 24,
   "metadata": {},
   "outputs": [],
   "source": [
    "data_yield = np.genfromtxt(datadir+'yield_final.csv', delimiter=',')\n",
    "locations = np.genfromtxt(datadir+'locations_final.csv', delimiter=',')\n",
    "length = data_yield.shape[0]\n",
    "index_all = np.arange(length)"
   ]
  },
  {
   "cell_type": "code",
   "execution_count": 25,
   "metadata": {},
   "outputs": [],
   "source": [
    "def image2histo(image_temp,start_day,end_day,bands):\n",
    "    start_index=int(math.floor(start_day/8))*bands\n",
    "    end_index=int(math.floor(end_day/8))*bands\n",
    "    if end_index>image_temp.shape[2]:\n",
    "        image_temp = np.concatenate((image_temp, \n",
    "            np.zeros((image_temp.shape[0],image_temp.shape[1],end_index-image_temp.shape[2]))),axis=2)\n",
    "    return image_temp[:,:,start_index:end_index]"
   ]
  },
  {
   "cell_type": "code",
   "execution_count": 26,
   "metadata": {},
   "outputs": [
    {
     "name": "stdout",
     "output_type": "stream",
     "text": [
      "0 15757.749663 2015 1 85\n",
      "1 15547.8280646 2015 1 105\n",
      "2 5236.93601094 2015 1 119\n",
      "3 32404.4370524 2015 1 3\n",
      "4 49936.8494976 2015 1 53\n",
      "5 14505.0782883 2015 1 99\n",
      "6 2959.92070724 2015 1 9\n",
      "7 18047.602566 2015 1 19\n",
      "8 9014.50937108 2015 1 43\n",
      "9 8030.85205653 2015 1 49\n",
      "10 8027.00786774 2015 1 55\n",
      "11 8524.21384976 2015 1 71\n",
      "12 86965.7108594 2015 1 33\n",
      "13 66280.33163 2015 1 77\n",
      "14 88733.0474633 2015 1 79\n",
      "15 197792.692169 2015 1 83\n",
      "16 189486.574072 2015 1 89\n",
      "17 41458.1542821 2015 1 103\n",
      "18 5879.88550434 2015 1 21\n",
      "19 4232.24428575 2015 1 57\n",
      "20 10905.6916437 2015 1 121\n",
      "21 8511.35328827 2015 1 125\n",
      "22 11277.4049811 2015 1 5\n",
      "23 8043.04194833 2015 1 39\n",
      "24 113106.68248 2015 1 61\n",
      "25 126070.915956 2015 1 69\n",
      "26 10662.0598484 2015 1 109\n",
      "27 6538.81797484 2014 1 11\n",
      "28 25283.2750464 2014 1 51\n",
      "29 6402.36380107 2014 1 63\n",
      "30 23120.6645151 2014 1 85\n",
      "31 17025.5786164 2014 1 87\n",
      "32 38489.9363836 2014 1 101\n",
      "33 15777.6553648 2014 1 105\n",
      "34 4798.6340363 2014 1 119\n",
      "35 32690.6747936 2014 1 3\n",
      "36 43682.7513017 2014 1 53\n",
      "37 10782.836667 2014 1 99\n",
      "38 2634.16131545 2014 1 129\n",
      "39 6178.99064925 2014 1 9\n",
      "40 14005.4859545 2014 1 15\n",
      "41 32146.3942504 2014 1 19\n",
      "42 14733.6933508 2014 1 43\n",
      "43 14059.3965933 2014 1 49\n",
      "44 12962.4488847 2014 1 55\n",
      "45 10431.5041971 2014 1 71\n",
      "46 16497.4390963 2014 1 95\n",
      "47 102326.458019 2014 1 33\n",
      "48 36546.3920009 2014 1 59\n",
      "49 86373.8470963 2014 1 77\n",
      "50 117592.819289 2014 1 79\n",
      "51 228270.060107 2014 1 83\n",
      "52 221125.257106 2014 1 89\n",
      "53 47164.0363656 2014 1 103\n",
      "54 6080.19307467 2014 1 57\n",
      "55 16697.6711219 2014 1 117\n",
      "56 11797.6474489 2014 1 121\n",
      "57 7077.88423321 2014 1 125\n",
      "58 3828.03661043 2014 1 127\n",
      "59 41722.3698561 2014 1 31\n",
      "60 7885.0967007 2014 1 39\n",
      "61 120701.901829 2014 1 61\n",
      "62 129803.031745 2014 1 67\n",
      "63 145542.887071 2014 1 69\n",
      "64 9016.66761326 2014 1 109\n",
      "65 18408.8019266 2013 1 1\n",
      "66 6919.44313257 2013 1 11\n",
      "67 26165.1624731 2013 1 51\n",
      "68 14602.5837097 2013 1 87\n",
      "69 7144.53890906 2013 1 91\n",
      "70 15859.4906334 2013 1 105\n",
      "71 5283.39870752 2013 1 119\n",
      "72 32399.0353613 2013 1 3\n",
      "73 1206.87720494 2013 1 35\n",
      "74 51009.1747687 2013 1 53\n",
      "75 15000.6480033 2013 1 99\n",
      "76 2912.80798205 2013 1 9\n",
      "77 11262.5873611 2013 1 15\n",
      "78 18153.4163488 2013 1 19\n",
      "79 9042.91398798 2013 1 43\n",
      "80 7813.16301811 2013 1 49\n",
      "81 8470.36003703 2013 1 71\n",
      "82 11488.2062098 2013 1 95\n",
      "83 87115.9867788 2013 1 33\n",
      "84 27350.0768061 2013 1 59\n",
      "85 65485.9903515 2013 1 77\n",
      "86 87952.7743332 2013 1 79\n",
      "87 196247.589256 2013 1 83\n",
      "88 189348.57166 2013 1 89\n",
      "89 41672.6843006 2013 1 103\n",
      "90 5890.54920406 2013 1 21\n",
      "91 4226.82087412 2013 1 57\n",
      "92 10817.4596344 2013 1 121\n",
      "93 8721.2101286 2013 1 125\n",
      "94 1853.86182739 2013 1 127\n",
      "95 35381.6593006 2013 1 31\n",
      "96 8231.33954655 2013 1 39\n",
      "97 3435.68045436 2013 1 41\n",
      "98 109897.786284 2013 1 61\n",
      "99 119851.298244 2013 1 67\n",
      "100 122437.733053 2013 1 69\n",
      "101 10568.1934883 2013 1 109\n",
      "102 23573.6033112 2012 1 85\n",
      "103 15979.3548862 2012 1 105\n",
      "104 5008.29427749 2012 1 119\n",
      "105 32570.5646025 2012 1 3\n",
      "106 43938.9651267 2012 1 53\n",
      "107 11337.4956353 2012 1 99\n",
      "108 6310.28819414 2012 1 9\n",
      "109 14081.3738996 2012 1 15\n",
      "110 32809.1955311 2012 1 19\n",
      "111 14599.7905099 2012 1 43\n",
      "112 14480.9998159 2012 1 49\n",
      "113 13009.9237832 2012 1 55\n",
      "114 10723.2299729 2012 1 71\n",
      "115 16645.2258027 2012 1 95\n",
      "116 106527.744914 2012 1 33\n",
      "117 90796.0546327 2012 1 77\n",
      "118 120734.359856 2012 1 79\n",
      "119 234353.060013 2012 1 83\n",
      "120 228242.786871 2012 1 89\n",
      "121 48619.3372429 2012 1 103\n",
      "122 6162.32292227 2012 1 57\n",
      "123 7786.28436259 2012 1 75\n",
      "124 12002.3823475 2012 1 121\n",
      "125 7279.97176885 2012 1 125\n",
      "126 42305.5520118 2012 1 31\n",
      "127 8158.51555609 2012 1 39\n",
      "128 9330.62073272 2012 1 109\n",
      "129 22048.55822 2011 1 1\n",
      "130 26033.9904142 2011 1 51\n",
      "131 5285.4724624 2011 1 91\n",
      "132 12747.0006387 2011 1 105\n",
      "133 6247.42670217 2011 1 119\n",
      "134 45211.9725879 2011 1 3\n",
      "135 1624.9964889 2011 1 35\n",
      "136 42109.8462433 2011 1 53\n",
      "137 13127.2881521 2011 1 15\n",
      "138 32211.328886 2011 1 19\n",
      "139 12463.101413 2011 1 43\n",
      "140 11423.002313 2011 1 49\n",
      "141 11799.8275159 2011 1 55\n",
      "142 13991.5665106 2011 1 71\n",
      "143 13565.9662334 2011 1 95\n",
      "144 90369.8261117 2011 1 33\n",
      "145 28172.541507 2011 1 59\n",
      "146 69820.0637828 2011 1 77\n",
      "147 109918.97278 2011 1 79\n",
      "148 174446.019904 2011 1 83\n",
      "149 197898.007898 2011 1 89\n",
      "150 5304.80901433 2011 1 57\n",
      "151 19784.4700184 2011 1 117\n",
      "152 15824.2236627 2011 1 121\n",
      "153 7947.78930801 2011 1 125\n",
      "154 12160.0005396 2011 1 39\n",
      "155 10026.8428831 2011 1 109\n",
      "156 24798.1541391 2010 1 1\n",
      "157 33396.6679109 2010 1 51\n",
      "158 13080.4935189 2010 1 87\n",
      "159 6930.56341634 2010 1 91\n",
      "160 52971.8163774 2010 1 3\n",
      "161 1264.17137494 2010 1 35\n",
      "162 50105.7865525 2010 1 53\n",
      "163 7189.12349403 2010 1 9\n",
      "164 10748.8374737 2010 1 15\n",
      "165 37710.073048 2010 1 19\n",
      "166 14958.3969934 2010 1 43\n",
      "167 20933.7064837 2010 1 49\n",
      "168 16700.4398144 2010 1 71\n",
      "169 15946.9171663 2010 1 95\n",
      "170 109588.919293 2010 1 33\n",
      "171 27428.1624923 2010 1 59\n",
      "172 91731.1925116 2010 1 77\n",
      "173 138037.853197 2010 1 79\n",
      "174 226756.544413 2010 1 83\n",
      "175 219354.402965 2010 1 89\n",
      "176 49808.9424236 2010 1 103\n",
      "177 4880.46657292 2010 1 57\n",
      "178 9956.24232294 2010 1 107\n",
      "179 16399.2646739 2010 1 117\n",
      "180 6855.6202485 2010 1 125\n",
      "181 98568.9818146 2010 1 31\n",
      "182 14780.3096731 2010 1 39\n",
      "183 255182.531496 2010 1 61\n",
      "184 284352.103837 2010 1 69\n",
      "185 14005.4397111 2010 1 109\n",
      "186 22316.8252142 2009 1 1\n",
      "187 23857.984796 2009 1 51\n",
      "188 11822.8451532 2009 1 87\n",
      "189 10325.9362324 2009 1 119\n",
      "190 48915.4941967 2009 1 3\n",
      "191 506.946382305 2009 1 35\n",
      "192 42910.9097023 2009 1 53\n",
      "193 24044.7849974 2009 1 97\n",
      "194 5955.13705663 2009 1 99\n",
      "195 8704.54615259 2009 1 15\n",
      "196 32100.1990473 2009 1 19\n",
      "197 10499.5389627 2009 1 43\n",
      "198 12186.7512098 2009 1 49\n",
      "199 7557.46665562 2009 1 55\n",
      "200 15839.8491889 2009 1 71\n",
      "201 11920.7277258 2009 1 95\n",
      "202 86118.0188702 2009 1 33\n",
      "203 56223.3541708 2009 1 77\n",
      "204 96527.700097 2009 1 79\n",
      "205 184642.42541 2009 1 83\n",
      "206 146328.906011 2009 1 89\n",
      "207 39765.9184164 2009 1 103\n",
      "208 8597.78326323 2009 1 121\n",
      "209 6724.49884981 2009 1 125\n",
      "210 45282.4489153 2009 1 31\n",
      "211 9035.15821523 2009 1 39\n",
      "212 146941.058626 2009 1 61\n",
      "213 199042.183181 2009 1 69\n",
      "214 13083.0369911 2009 1 109\n",
      "215 45981.1123407 2008 1 3\n",
      "216 9409.1792647 2008 1 49\n",
      "217 93607.8473755 2008 1 77\n",
      "218 242690.963929 2008 1 83\n",
      "219 183767.078978 2008 1 89\n",
      "220 40530.5704313 2008 1 103\n",
      "221 40746.1304705 2007 1 3\n",
      "222 49828.5292842 2007 1 53\n",
      "223 12107.4428442 2007 1 15\n",
      "224 32043.5492166 2007 1 19\n",
      "225 14770.4423888 2007 1 43\n",
      "226 7656.02031741 2007 1 49\n",
      "227 10128.2446811 2007 1 55\n",
      "228 19005.5816661 2007 1 71\n",
      "229 17071.6603772 2007 1 95\n",
      "230 124418.148525 2007 1 33\n",
      "231 106887.606226 2007 1 77\n",
      "232 122344.783569 2007 1 79\n",
      "233 254088.552115 2007 1 83\n",
      "234 199353.830389 2007 1 89\n",
      "235 6005.79044384 2007 1 93\n",
      "236 44735.271874 2007 1 103\n",
      "237 3227.34084974 2007 1 57\n",
      "238 14528.8326875 2007 1 121\n",
      "239 6832.08929252 2007 1 125\n",
      "240 126482.66351 2007 1 67\n",
      "241 152720.130859 2007 1 69\n",
      "242 38664.4438564 2006 1 3\n",
      "243 11378.4220207 2006 1 15\n",
      "244 32386.7431694 2006 1 19\n",
      "245 12809.6932328 2006 1 43\n",
      "246 4105.14170999 2006 1 49\n",
      "247 14947.5150547 2006 1 55\n",
      "248 18876.4290086 2006 1 71\n",
      "249 16342.9355317 2006 1 95\n",
      "250 98734.884567 2006 1 77\n",
      "251 145241.935671 2006 1 79\n",
      "252 261840.205606 2006 1 83\n",
      "253 240805.823609 2006 1 89\n",
      "254 8265.52621034 2006 1 93\n",
      "255 51109.4037974 2006 1 103\n",
      "256 3407.93443439 2006 1 57\n",
      "257 200692.560294 2006 1 69\n",
      "258 13784.96451 2005 1 15\n",
      "259 34849.8490748 2005 1 19\n",
      "260 19501.1676163 2005 1 43\n",
      "261 8957.47312913 2005 1 49\n",
      "262 15499.0262751 2005 1 55\n",
      "263 13879.9897887 2005 1 71\n",
      "264 26864.2775028 2005 1 95\n",
      "265 137243.64054 2005 1 33\n",
      "266 113588.55691 2005 1 77\n",
      "267 158210.045982 2005 1 79\n",
      "268 281467.167002 2005 1 83\n",
      "269 265539.961228 2005 1 89\n",
      "270 8272.39642014 2005 1 93\n",
      "271 60485.8746685 2005 1 103\n",
      "272 240147.779641 2005 1 61\n",
      "273 221900.773751 2005 1 69\n",
      "274 23080.5874525 2004 1 85\n",
      "275 28808.8476044 2004 1 105\n",
      "276 52560.8653623 2004 1 3\n",
      "277 54794.2672883 2004 1 53\n",
      "278 17313.0283672 2004 1 99\n",
      "279 25565.2198552 2004 1 15\n",
      "280 59033.2780576 2004 1 19\n",
      "281 65173.5459315 2004 1 43\n",
      "282 52106.7467915 2004 1 49\n",
      "283 35075.5560219 2004 1 55\n",
      "284 29404.3670117 2004 1 71\n",
      "285 59971.7501789 2004 1 95\n",
      "286 146556.035844 2004 1 33\n",
      "287 55093.9581763 2004 1 59\n",
      "288 140549.940798 2004 1 77\n",
      "289 207161.170949 2004 1 79\n",
      "290 366103.193118 2004 1 83\n",
      "291 333376.69983 2004 1 89\n",
      "292 22227.9806373 2004 1 93\n",
      "293 95811.8695648 2004 1 103\n",
      "294 8679.34388369 2004 1 57\n",
      "295 23823.5326214 2004 1 121\n",
      "296 12230.6887921 2004 1 125\n",
      "297 32735.9901465 2004 1 39\n",
      "298 315620.033193 2004 1 61\n",
      "299 208853.689365 2004 1 67\n"
     ]
    },
    {
     "name": "stdout",
     "output_type": "stream",
     "text": [
      "300 288672.049483 2004 1 69\n",
      "301 54654.1633678 2003 1 3\n",
      "302 51017.5181192 2003 1 53\n",
      "303 23906.9700478 2003 1 15\n",
      "304 40615.3501974 2003 1 19\n",
      "305 30875.2075631 2003 1 43\n",
      "306 18144.4232122 2003 1 49\n",
      "307 21957.5052851 2003 1 55\n",
      "308 16586.0274241 2003 1 71\n",
      "309 31921.142934 2003 1 95\n",
      "310 109455.638283 2003 1 77\n",
      "311 140072.144101 2003 1 79\n",
      "312 263838.180476 2003 1 83\n",
      "313 242887.330384 2003 1 89\n",
      "314 14040.4173367 2003 1 93\n",
      "315 61791.1801776 2003 1 103\n",
      "316 8426.39440136 2003 1 57\n",
      "317 20634.587269 2003 1 121\n",
      "318 402700.258798 2003 1 61\n",
      "319 302058.528116 2003 1 69\n",
      "320 23186.8178175 2016 1 85\n",
      "321 15933.7446424 2016 1 105\n",
      "322 4847.82169037 2016 1 119\n",
      "323 31752.9138439 2016 1 3\n"
     ]
    },
    {
     "name": "stderr",
     "output_type": "stream",
     "text": [
      "/Users/moyang/anaconda3/envs/py27/lib/python2.7/site-packages/numpy/lib/function_base.py:748: RuntimeWarning: invalid value encountered in greater_equal\n",
      "  keep = (tmp_a >= mn)\n",
      "/Users/moyang/anaconda3/envs/py27/lib/python2.7/site-packages/numpy/lib/function_base.py:749: RuntimeWarning: invalid value encountered in less_equal\n",
      "  keep &= (tmp_a <= mx)\n"
     ]
    },
    {
     "name": "stdout",
     "output_type": "stream",
     "text": [
      "324 0.0 2016 1 53\n",
      "325 11058.4005921 2016 1 99\n",
      "326 6360.0919442 2016 1 9\n",
      "327 32844.1949817 2016 1 19\n",
      "328 14868.2883937 2016 1 43\n",
      "329 14483.8067212 2016 1 49\n",
      "330 13144.5584027 2016 1 55\n",
      "331 10919.0400305 2016 1 71\n",
      "332 105903.869754 2016 1 33\n",
      "333 90513.388898 2016 1 77\n",
      "334 0.0 2016 1 79\n",
      "335 233837.443122 2016 1 83\n",
      "336 226841.522712 2016 1 89\n",
      "337 47999.8492993 2016 1 103\n",
      "338 5574.4595982 2016 1 21\n",
      "339 6254.82081846 2016 1 57\n",
      "340 11846.6882147 2016 1 121\n",
      "341 7178.95559846 2016 1 125\n",
      "342 11414.576701 2016 1 5\n",
      "343 7739.25225434 2016 1 39\n",
      "344 121274.537908 2016 1 61\n",
      "345 146515.66202 2016 1 69\n",
      "346 9110.55406638 2016 1 109\n",
      "347 6536.0327105 2016 1 11\n",
      "348 0.0 2016 1 51\n",
      "349 6287.17323751 2016 1 63\n",
      "350 17321.2108664 2016 1 87\n",
      "351 38835.1216 2016 1 101\n",
      "352 2604.10511677 2016 1 129\n",
      "353 14014.1800452 2016 1 15\n",
      "354 16710.1000865 2016 1 95\n",
      "355 38167.8467562 2016 1 59\n",
      "356 16626.9227711 2016 1 117\n",
      "357 3887.65354201 2016 1 127\n",
      "358 0.0 2016 1 31\n",
      "359 130221.007671 2016 1 67\n",
      "360 20463.8039781 2016 1 1\n",
      "361 6860.61589996 2016 1 91\n",
      "362 1727.64641237 2016 1 35\n",
      "363 2274.50894402 2016 1 41\n",
      "364 7863.02820773 2016 1 75\n",
      "365 12505.7524485 2016 1 107\n",
      "366 20599.3326672 2016 1 97\n",
      "367 7568.59687526 2016 1 93\n"
     ]
    }
   ],
   "source": [
    "output_image_mean = np.zeros([index_all.shape[0], 32*9])\n",
    "output_hist = []\n",
    "output_yield = np.zeros([index_all.shape[0]])\n",
    "output_year = np.zeros([index_all.shape[0]])\n",
    "output_locations = np.zeros([index_all.shape[0],2])\n",
    "output_index = np.zeros([index_all.shape[0],2])\n",
    "\n",
    "for i in index_all:\n",
    "    year = str(int(data_yield[i, 0]))\n",
    "    loc1 = str(int(data_yield[i, 1]))\n",
    "    loc2 = str(int(data_yield[i, 2]))\n",
    "\n",
    "    key = np.array([int(loc1),int(loc2)])\n",
    "    index = np.where(np.all(locations[:,0:2].astype('int') == key, axis=1))\n",
    "    longitude = locations[index,2]\n",
    "    latitude = locations[index,3]\n",
    "    \n",
    "    filename = year + '_' + loc1 + '_' + loc2 + '.npy'\n",
    "    \n",
    "    if os.path.isfile(img_zoom_output_dir + filename):\n",
    "    \n",
    "        image_temp = np.load(img_zoom_output_dir + filename)\n",
    "        image_temp = image2histo(image_temp, 49, 305, 9)\n",
    "        \n",
    "        image_temp1 = np.sum(image_temp,axis=(0,1))/np.count_nonzero(image_temp)*image_temp.shape[2]\n",
    "        image_temp1[np.isnan(image_temp1)] = 0\n",
    "        \n",
    "        hist_oneyear = []\n",
    "        hist_onestep = []\n",
    "        for j in range(288):\n",
    "            hist = np.histogram(image_temp[:,:,j], bins=64, range=(-200.0, 2000.0))\n",
    "            hist_onestep.append(hist)\n",
    "            j+=1\n",
    "            if j % 9 == 0:\n",
    "                hist_oneyear.append(hist_onestep)\n",
    "                hist_onestep = []\n",
    "            \n",
    "        output_hist.append(hist_oneyear)    \n",
    "            \n",
    "        \n",
    "        \n",
    "            \n",
    "        output_image_mean[i, :] = image_temp1\n",
    "        output_yield[i] = data_yield[i, 3]\n",
    "        output_year[i] = int(year)\n",
    "        output_locations[i, 0] = longitude\n",
    "        output_locations[i, 1] = latitude\n",
    "        output_index[i,:] = np.array([int(loc1),int(loc2)])\n",
    "    else:\n",
    "        print filename, 'not exist'\n",
    "    print i,np.sum(image_temp1),year,loc1,loc2\n",
    "        "
   ]
  },
  {
   "cell_type": "markdown",
   "metadata": {},
   "source": [
    "#### Number of examples"
   ]
  },
  {
   "cell_type": "code",
   "execution_count": 27,
   "metadata": {},
   "outputs": [
    {
     "data": {
      "text/plain": [
       "368"
      ]
     },
     "execution_count": 27,
     "metadata": {},
     "output_type": "execute_result"
    }
   ],
   "source": [
    "len(output_hist)"
   ]
  },
  {
   "cell_type": "markdown",
   "metadata": {},
   "source": [
    "#### In each example, the number of time steps"
   ]
  },
  {
   "cell_type": "code",
   "execution_count": 28,
   "metadata": {},
   "outputs": [
    {
     "data": {
      "text/plain": [
       "32"
      ]
     },
     "execution_count": 28,
     "metadata": {},
     "output_type": "execute_result"
    }
   ],
   "source": [
    "len(output_hist[0])"
   ]
  },
  {
   "cell_type": "markdown",
   "metadata": {},
   "source": [
    "#### In each time step, the number of histograms"
   ]
  },
  {
   "cell_type": "code",
   "execution_count": 29,
   "metadata": {},
   "outputs": [
    {
     "data": {
      "text/plain": [
       "9"
      ]
     },
     "execution_count": 29,
     "metadata": {},
     "output_type": "execute_result"
    }
   ],
   "source": [
    "len(output_hist[0][0])"
   ]
  },
  {
   "cell_type": "markdown",
   "metadata": {},
   "source": [
    "#### Numeric form of a histogram"
   ]
  },
  {
   "cell_type": "code",
   "execution_count": 30,
   "metadata": {},
   "outputs": [
    {
     "data": {
      "text/plain": [
       "(array([   4,    7,   10,    9,   27, 2061,   53,   26,   17,    4,    4,\n",
       "           4,    3,    1,    1,    0,    3,    1,    2,    0,    1,    0,\n",
       "           0,    0,    1,    0,    1,    0,    0,    2,    1,    2,    1,\n",
       "           0,    0,    1,    1,    0,    1,    0,    2,    0,    2,    2,\n",
       "           1,    0,    0,    0,    1,    2,    0,    1,    1,    0,    0,\n",
       "           0,    1,    0,    1,    0,    0,    0,    0,    0]),\n",
       " array([ -200.   ,  -165.625,  -131.25 ,   -96.875,   -62.5  ,   -28.125,\n",
       "            6.25 ,    40.625,    75.   ,   109.375,   143.75 ,   178.125,\n",
       "          212.5  ,   246.875,   281.25 ,   315.625,   350.   ,   384.375,\n",
       "          418.75 ,   453.125,   487.5  ,   521.875,   556.25 ,   590.625,\n",
       "          625.   ,   659.375,   693.75 ,   728.125,   762.5  ,   796.875,\n",
       "          831.25 ,   865.625,   900.   ,   934.375,   968.75 ,  1003.125,\n",
       "         1037.5  ,  1071.875,  1106.25 ,  1140.625,  1175.   ,  1209.375,\n",
       "         1243.75 ,  1278.125,  1312.5  ,  1346.875,  1381.25 ,  1415.625,\n",
       "         1450.   ,  1484.375,  1518.75 ,  1553.125,  1587.5  ,  1621.875,\n",
       "         1656.25 ,  1690.625,  1725.   ,  1759.375,  1793.75 ,  1828.125,\n",
       "         1862.5  ,  1896.875,  1931.25 ,  1965.625,  2000.   ]))"
      ]
     },
     "execution_count": 30,
     "metadata": {},
     "output_type": "execute_result"
    }
   ],
   "source": [
    "output_hist[0][0][0]"
   ]
  },
  {
   "cell_type": "markdown",
   "metadata": {},
   "source": [
    "#### Histogram graph"
   ]
  },
  {
   "cell_type": "code",
   "execution_count": 31,
   "metadata": {},
   "outputs": [
    {
     "data": {
      "text/plain": [
       "[<matplotlib.lines.Line2D at 0x104a59050>]"
      ]
     },
     "execution_count": 31,
     "metadata": {},
     "output_type": "execute_result"
    },
    {
     "data": {
      "image/png": "[encoded data removed]",
      "text/plain": [
       "<matplotlib.figure.Figure at 0x108a38850>"
      ]
     },
     "metadata": {},
     "output_type": "display_data"
    }
   ],
   "source": [
    "(y,x) = output_hist[0][0][0]\n",
    "plt.plot(x[:-1],y)"
   ]
  },
  {
   "cell_type": "markdown",
   "metadata": {},
   "source": [
    "### histogram mean time step"
   ]
  },
  {
   "cell_type": "code",
   "execution_count": 32,
   "metadata": {},
   "outputs": [
    {
     "data": {
      "text/plain": [
       "[<matplotlib.lines.Line2D at 0x108f1b210>]"
      ]
     },
     "execution_count": 32,
     "metadata": {},
     "output_type": "execute_result"
    },
    {
     "data": {
      "image/png": "[encoded data removed]",
      "text/plain": [
       "<matplotlib.figure.Figure at 0x1c8f03790>"
      ]
     },
     "metadata": {},
     "output_type": "display_data"
    }
   ],
   "source": [
    "plt.plot(output_image_mean[0])"
   ]
  },
  {
   "cell_type": "markdown",
   "metadata": {},
   "source": [
    "### delete those whose yield = 0"
   ]
  },
  {
   "cell_type": "code",
   "execution_count": 33,
   "metadata": {},
   "outputs": [],
   "source": [
    "delete_list = []\n",
    "for i in range(output_image_mean.shape[0]):\n",
    "    if output_yield[i] < 5.0:\n",
    "        delete_list.append(i)"
   ]
  },
  {
   "cell_type": "code",
   "execution_count": 34,
   "metadata": {},
   "outputs": [],
   "source": [
    "X = np.delete(output_hist,delete_list,0)\n",
    "Y = np.delete(output_yield,delete_list,0)\n",
    "X_mean = np.delete(output_image_mean,delete_list,0)"
   ]
  },
  {
   "cell_type": "code",
   "execution_count": 35,
   "metadata": {},
   "outputs": [
    {
     "data": {
      "text/plain": [
       "(320, 32, 9, 2)"
      ]
     },
     "execution_count": 35,
     "metadata": {},
     "output_type": "execute_result"
    }
   ],
   "source": [
    "X.shape"
   ]
  },
  {
   "cell_type": "code",
   "execution_count": 36,
   "metadata": {},
   "outputs": [],
   "source": [
    "np.savez(datadir+'data.npz', \n",
    "        X=X,Y=Y,X_mean=X_mean,output_year=output_year,output_locations=output_locations,output_index=output_index)"
   ]
  },
  {
   "cell_type": "markdown",
   "metadata": {},
   "source": [
    "### split into train and test. Attention, here, in consideratoin of time series problem, we take 2015 for test-set. "
   ]
  },
  {
   "cell_type": "code",
   "execution_count": 37,
   "metadata": {},
   "outputs": [],
   "source": [
    "data = np.load(datadir+'data.npz')"
   ]
  },
  {
   "cell_type": "code",
   "execution_count": null,
   "metadata": {},
   "outputs": [],
   "source": [
    "X = data['X']\n",
    "Y = data['Y']\n",
    "X_mean = data['X_mean']\n",
    "output_year = data['output_year']\n",
    "output_locations = data['output_locations']"
   ]
  },
  {
   "cell_type": "code",
   "execution_count": 60,
   "metadata": {
    "collapsed": true
   },
   "outputs": [],
   "source": [
    "predict_year = 2015"
   ]
  },
  {
   "cell_type": "code",
   "execution_count": 61,
   "metadata": {},
   "outputs": [],
   "source": [
    "index_train = np.nonzero(output_year < predict_year)[0]\n",
    "index_test = np.nonzero(output_year == predict_year)[0]"
   ]
  },
  {
   "cell_type": "code",
   "execution_count": 64,
   "metadata": {
    "collapsed": true
   },
   "outputs": [],
   "source": [
    "X_train = X[index_train]\n",
    "X_test = X[index_train]\n",
    "Y_train = Y[index_train]\n",
    "Y_test = Y[index_test]\n",
    "X_mean_train = X_mean[index_train]\n",
    "X_mean_test = X_mean[index_test]"
   ]
  },
  {
   "cell_type": "code",
   "execution_count": 65,
   "metadata": {
    "collapsed": true
   },
   "outputs": [],
   "source": [
    "np.savez(datadir+'train.npz', \n",
    "        X=X_train,Y=Y_train,X_mean=X_mean_train)\n",
    "np.savez(datadir+'test.npz', \n",
    "        X=X_test,Y=Y_test,X_mean=X_mean_test)"
   ]
  },
  {
   "cell_type": "code",
   "execution_count": 68,
   "metadata": {},
   "outputs": [
    {
     "data": {
      "text/plain": [
       "(293, 288)"
      ]
     },
     "execution_count": 68,
     "metadata": {},
     "output_type": "execute_result"
    }
   ],
   "source": [
    "X_mean_train.shape"
   ]
  },
  {
   "cell_type": "markdown",
   "metadata": {},
   "source": [
    "## Regressor\n",
    "The regressor follows a classical scikit-learn regressor template. It should be saved in the file submissions/starting_kit/classifier.py. In its simplest form it takes a scikit-learn pipeline, assigns it to self.clf in __init__, then calls its fit and predict_proba functions in the corresponding member functions."
   ]
  },
  {
   "cell_type": "code",
   "execution_count": 87,
   "metadata": {
    "collapsed": true
   },
   "outputs": [],
   "source": [
    "from sklearn.base import BaseEstimator\n",
    "from sklearn.ensemble import RandomForestRegressor\n",
    "\n",
    "\n",
    "class Regressor(BaseEstimator):\n",
    "    def __init__(self):\n",
    "        pass\n",
    "\n",
    "    def fit(self, X, y):\n",
    "        self.reg = RandomForestRegressor(\n",
    "            n_estimators=200, max_leaf_nodes=2, random_state=61)\n",
    "        self.reg.fit(X, y)\n",
    "\n",
    "    def predict(self, X):\n",
    "        return self.reg.predict(X)"
   ]
  },
  {
   "cell_type": "markdown",
   "metadata": {},
   "source": [
    "## Local testing\n",
    "It is important that you test your submission files before submitting them. For this we provide a unit test. Note that the test runs on your files in submissions/starting_kit, not on the classes defined in the cells of this notebook.  \n",
    "\n",
    "First pip install ramp-workflow or install it from the github repo. Make sure that the python files feature_extractor.py and classifier.py are in the  submissions/starting_kit folder, and the data train.csv and test.csv are in data. Then run  \n",
    "\n",
    "ramp_test_submission  \n",
    "\n",
    "If it runs and print training and test errors on each fold, then you can submit the code.  "
   ]
  },
  {
   "cell_type": "code",
   "execution_count": 88,
   "metadata": {},
   "outputs": [
    {
     "name": "stdout",
     "output_type": "stream",
     "text": [
      "\u001b[38;5;178m\u001b[1mTesting Crop yield prediction\u001b[0m\n",
      "\u001b[38;5;178m\u001b[1mReading train and test files from ./data ...\u001b[0m\n",
      "\u001b[38;5;178m\u001b[1mReading cv ...\u001b[0m\n",
      "\u001b[38;5;178m\u001b[1mTraining ./submissions/starting_kit ...\u001b[0m\n",
      "\u001b[38;5;178m\u001b[1mCV fold 0\u001b[0m\n",
      "./submissions/starting_kit/feature_extractor.py:1: RuntimeWarning: Parent module '.submissions.starting_kit' not found while handling absolute import\n",
      "  import pandas as pd\n",
      "./submissions/starting_kit/feature_extractor.py:2: RuntimeWarning: Parent module '.submissions.starting_kit' not found while handling absolute import\n",
      "  import numpy as np\n",
      "./submissions/starting_kit/feature_extractor.py:3: RuntimeWarning: Parent module '.submissions.starting_kit' not found while handling absolute import\n",
      "  from sklearn import preprocessing\n",
      "./submissions/starting_kit/regressor.py:1: RuntimeWarning: Parent module '.submissions.starting_kit' not found while handling absolute import\n",
      "  from sklearn.base import BaseEstimator\n",
      "./submissions/starting_kit/regressor.py:2: RuntimeWarning: Parent module '.submissions.starting_kit' not found while handling absolute import\n",
      "  from sklearn.ensemble import RandomForestRegressor\n",
      "\t\u001b[38;5;178m\u001b[1mscore  rmse  rel_rmse\u001b[0m\n",
      "\t\u001b[38;5;10m\u001b[1mtrain\u001b[0m  \u001b[38;5;10m\u001b[1m8.85\u001b[0m      \u001b[38;5;150m0.37\u001b[0m\n",
      "\t\u001b[38;5;12m\u001b[1mvalid\u001b[0m  \u001b[38;5;12m\u001b[1m8.50\u001b[0m      \u001b[38;5;105m0.43\u001b[0m\n",
      "\t\u001b[38;5;1m\u001b[1mtest\u001b[0m   \u001b[38;5;1m\u001b[1m9.11\u001b[0m      \u001b[38;5;218m0.22\u001b[0m\n",
      "\u001b[38;5;178m\u001b[1mCV fold 1\u001b[0m\n",
      "\t\u001b[38;5;178m\u001b[1mscore  rmse  rel_rmse\u001b[0m\n",
      "\t\u001b[38;5;10m\u001b[1mtrain\u001b[0m  \u001b[38;5;10m\u001b[1m8.53\u001b[0m      \u001b[38;5;150m0.38\u001b[0m\n",
      "\t\u001b[38;5;12m\u001b[1mvalid\u001b[0m  \u001b[38;5;12m\u001b[1m9.66\u001b[0m      \u001b[38;5;105m0.39\u001b[0m\n",
      "\t\u001b[38;5;1m\u001b[1mtest\u001b[0m   \u001b[38;5;1m\u001b[1m9.20\u001b[0m      \u001b[38;5;218m0.23\u001b[0m\n",
      "\u001b[38;5;178m\u001b[1mCV fold 2\u001b[0m\n",
      "\t\u001b[38;5;178m\u001b[1mscore  rmse  rel_rmse\u001b[0m\n",
      "\t\u001b[38;5;10m\u001b[1mtrain\u001b[0m  \u001b[38;5;10m\u001b[1m8.56\u001b[0m      \u001b[38;5;150m0.37\u001b[0m\n",
      "\t\u001b[38;5;12m\u001b[1mvalid\u001b[0m  \u001b[38;5;12m\u001b[1m9.52\u001b[0m      \u001b[38;5;105m0.42\u001b[0m\n",
      "\t\u001b[38;5;1m\u001b[1mtest\u001b[0m   \u001b[38;5;1m\u001b[1m9.20\u001b[0m      \u001b[38;5;218m0.23\u001b[0m\n",
      "\u001b[38;5;178m\u001b[1mCV fold 3\u001b[0m\n",
      "\t\u001b[38;5;178m\u001b[1mscore  rmse  rel_rmse\u001b[0m\n",
      "\t\u001b[38;5;10m\u001b[1mtrain\u001b[0m  \u001b[38;5;10m\u001b[1m8.69\u001b[0m      \u001b[38;5;150m0.36\u001b[0m\n",
      "\t\u001b[38;5;12m\u001b[1mvalid\u001b[0m  \u001b[38;5;12m\u001b[1m9.18\u001b[0m      \u001b[38;5;105m0.48\u001b[0m\n",
      "\t\u001b[38;5;1m\u001b[1mtest\u001b[0m   \u001b[38;5;1m\u001b[1m9.01\u001b[0m      \u001b[38;5;218m0.22\u001b[0m\n",
      "\u001b[38;5;178m\u001b[1mCV fold 4\u001b[0m\n",
      "\t\u001b[38;5;178m\u001b[1mscore  rmse  rel_rmse\u001b[0m\n",
      "\t\u001b[38;5;10m\u001b[1mtrain\u001b[0m  \u001b[38;5;10m\u001b[1m8.66\u001b[0m      \u001b[38;5;150m0.37\u001b[0m\n",
      "\t\u001b[38;5;12m\u001b[1mvalid\u001b[0m  \u001b[38;5;12m\u001b[1m9.19\u001b[0m      \u001b[38;5;105m0.46\u001b[0m\n",
      "\t\u001b[38;5;1m\u001b[1mtest\u001b[0m   \u001b[38;5;1m\u001b[1m9.16\u001b[0m      \u001b[38;5;218m0.23\u001b[0m\n",
      "\u001b[38;5;178m\u001b[1mCV fold 5\u001b[0m\n",
      "\t\u001b[38;5;178m\u001b[1mscore  rmse  rel_rmse\u001b[0m\n",
      "\t\u001b[38;5;10m\u001b[1mtrain\u001b[0m  \u001b[38;5;10m\u001b[1m8.82\u001b[0m      \u001b[38;5;150m0.39\u001b[0m\n",
      "\t\u001b[38;5;12m\u001b[1mvalid\u001b[0m  \u001b[38;5;12m\u001b[1m8.51\u001b[0m      \u001b[38;5;105m0.30\u001b[0m\n",
      "\t\u001b[38;5;1m\u001b[1mtest\u001b[0m   \u001b[38;5;1m\u001b[1m9.19\u001b[0m      \u001b[38;5;218m0.23\u001b[0m\n",
      "\u001b[38;5;178m\u001b[1mCV fold 6\u001b[0m\n",
      "\t\u001b[38;5;178m\u001b[1mscore  rmse  rel_rmse\u001b[0m\n",
      "\t\u001b[38;5;10m\u001b[1mtrain\u001b[0m  \u001b[38;5;10m\u001b[1m8.75\u001b[0m      \u001b[38;5;150m0.37\u001b[0m\n",
      "\t\u001b[38;5;12m\u001b[1mvalid\u001b[0m  \u001b[38;5;12m\u001b[1m8.64\u001b[0m      \u001b[38;5;105m0.40\u001b[0m\n",
      "\t\u001b[38;5;1m\u001b[1mtest\u001b[0m   \u001b[38;5;1m\u001b[1m9.37\u001b[0m      \u001b[38;5;218m0.23\u001b[0m\n",
      "\u001b[38;5;178m\u001b[1mCV fold 7\u001b[0m\n",
      "\t\u001b[38;5;178m\u001b[1mscore  rmse  rel_rmse\u001b[0m\n",
      "\t\u001b[38;5;10m\u001b[1mtrain\u001b[0m  \u001b[38;5;10m\u001b[1m8.69\u001b[0m      \u001b[38;5;150m0.39\u001b[0m\n",
      "\t\u001b[38;5;12m\u001b[1mvalid\u001b[0m  \u001b[38;5;12m\u001b[1m9.10\u001b[0m      \u001b[38;5;105m0.40\u001b[0m\n",
      "\t\u001b[38;5;1m\u001b[1mtest\u001b[0m   \u001b[38;5;1m\u001b[1m8.88\u001b[0m      \u001b[38;5;218m0.22\u001b[0m\n",
      "\u001b[38;5;178m\u001b[1m----------------------------\u001b[0m\n",
      "\u001b[38;5;178m\u001b[1mMean CV scores\u001b[0m\n",
      "\u001b[38;5;178m\u001b[1m----------------------------\u001b[0m\n",
      "\t\u001b[38;5;178m\u001b[1mscore          rmse      rel_rmse\u001b[0m\n",
      "\t\u001b[38;5;10m\u001b[1mtrain\u001b[0m  \u001b[38;5;10m\u001b[1m8.69 ± 0.106\u001b[0m  \u001b[38;5;150m0.37 ± 0.011\u001b[0m\n",
      "\t\u001b[38;5;12m\u001b[1mvalid\u001b[0m  \u001b[38;5;12m\u001b[1m9.04 ± 0.416\u001b[0m  \u001b[38;5;105m0.41 ± 0.052\u001b[0m\n",
      "\t\u001b[38;5;1m\u001b[1mtest\u001b[0m   \u001b[38;5;1m\u001b[1m9.14 ± 0.136\u001b[0m  \u001b[38;5;218m0.23 ± 0.004\u001b[0m\n",
      "\u001b[38;5;178m\u001b[1m----------------------------\u001b[0m\n",
      "\u001b[38;5;178m\u001b[1mBagged scores\u001b[0m\n",
      "\u001b[38;5;178m\u001b[1m----------------------------\u001b[0m\n",
      "\t\u001b[38;5;178m\u001b[1mscore  rmse\u001b[0m\n",
      "\t\u001b[38;5;12m\u001b[1mvalid\u001b[0m  \u001b[38;5;12m\u001b[1m9.05\u001b[0m\n",
      "\t\u001b[38;5;1m\u001b[1mtest\u001b[0m   \u001b[38;5;1m\u001b[1m9.12\u001b[0m\n"
     ]
    }
   ],
   "source": [
    "!ramp_test_submission --quick-test"
   ]
  }
 ],
 "metadata": {
  "kernelspec": {
   "display_name": "Python 2",
   "language": "python",
   "name": "python2"
  },
  "language_info": {
   "codemirror_mode": {
    "name": "ipython",
    "version": 2
   },
   "file_extension": ".py",
   "mimetype": "text/x-python",
   "name": "python",
   "nbconvert_exporter": "python",
   "pygments_lexer": "ipython2",
   "version": "2.7.14"
  }
 },
 "nbformat": 4,
 "nbformat_minor": 2
}
